{
 "cells": [
  {
   "cell_type": "markdown",
   "id": "52fa3fcd",
   "metadata": {},
   "source": [
    "* 페이지 진입 > 박스오피스 메뉴\n",
    " 일별(default)\n",
    "  - 24년 9/13 start_date 설정하여 일주일치 한번에 \n",
    "  - 25년 9/26, 10/3, 10/10, 10/17 start_date 설정하여 일주일치 한번에 \n",
    "  - 각 지역별로 조회\n",
    "  - 한국/외국 나눠서\n",
    " ~~월별 메뉴 이동~~\n",
    " ~~연도별 메뉴 이동~~\n"
   ]
  },
  {
   "cell_type": "code",
   "execution_count": 11,
   "id": "d99d9199",
   "metadata": {},
   "outputs": [],
   "source": [
    "from selenium import webdriver\n",
    "from selenium.webdriver.chrome.service import Service\n",
    "from selenium.webdriver.common.by import By\n",
    "from selenium.webdriver.common.keys import Keys\n",
    "from selenium.webdriver.support import expected_conditions as EC\n",
    "from selenium.webdriver.support.wait import WebDriverWait\n",
    "from selenium.webdriver.chrome.options import Options\n",
    "from selenium.webdriver.support.select import Select\n",
    "import time\n",
    "import random\n",
    "from tqdm import tqdm\n"
   ]
  },
  {
   "cell_type": "code",
   "execution_count": 12,
   "id": "805476ce",
   "metadata": {},
   "outputs": [],
   "source": [
    "def set_daily_searh_date_option_by_start_date(driver, start_date):\n",
    "    # global driver\n",
    "    # 2.1 시작일 선택\n",
    "    driver.find_element(By.ID, \"sSearchFrom\").click()\n",
    "    # 2.2 년 \n",
    "    wanna_this_year = start_date[0]#\"2025\"\n",
    "    y_select = driver.find_element(By.CSS_SELECTOR,\".ui-datepicker-year\")\n",
    "    Select(y_select).select_by_value(wanna_this_year)\n",
    "    # 2.3 월\n",
    "    wanna_this_month = start_date[1]#\"9월\"\n",
    "    m_select = driver.find_element(By.CSS_SELECTOR,\".ui-datepicker-month\")\n",
    "    Select(m_select).select_by_visible_text(wanna_this_month)\n",
    "    # 2.4 일\n",
    "    wanna_this_day = start_date[2]#\"26\"\n",
    "    d_table = driver.find_element(By.CSS_SELECTOR,\".ui-datepicker-calendar\")\n",
    "    d_elems = d_table.find_elements(By.TAG_NAME, \"a\")\n",
    "    for d_elem in d_elems:\n",
    "        # print(d_elem.text)#클릭 이후 찍으면 -> 에러! 왜냐? 알아봐라. 대충은 알겠음.\n",
    "        if d_elem.text == wanna_this_day:\n",
    "            # print(\"! \", d_elem.text)#클릭 이후 찍으면 -> 에러! 왜냐? 알아봐라. 대충은 알겠음.\n",
    "            d_elem.click()\n",
    "            break\n"
   ]
  },
  {
   "cell_type": "code",
   "execution_count": 13,
   "id": "a4bf8ff0",
   "metadata": {},
   "outputs": [],
   "source": [
    "from selenium.common.exceptions import StaleElementReferenceException\n",
    "\n",
    "# 조회 클릭\n",
    "def clickSearchButton():\n",
    "    print('조회!')\n",
    "    global driver\n",
    "    \n",
    "    try:\n",
    "        search_btn = driver.find_element(By.CLASS_NAME, \"wrap_btn\").find_element(By.TAG_NAME, \"button\")\n",
    "        WebDriverWait(driver, 240).until(EC.element_to_be_clickable(search_btn))\n",
    "        search_btn.click()\n",
    "        \n",
    "    except StaleElementReferenceException:\n",
    "        print(\"StaleElementReferenceException!\")\n",
    "        time.sleep(1)\n",
    "        search_btn = driver.find_element(By.CLASS_NAME, \"wrap_btn\").find_element(By.TAG_NAME, \"button\")\n",
    "        WebDriverWait(driver, 240).until(EC.element_to_be_clickable(search_btn))\n",
    "        search_btn.click()\n",
    "\n",
    "    except TimeoutError as e:\n",
    "        print(\"TimeoutException!\")\n",
    "        # time.sleep(60)# 서버에서 짤리면 의미없음. 그리고, 에러 여기로 잡히지 않는 것 같음.\n",
    "        \n",
    "    finally:\n",
    "        pass\n",
    "\n",
    "\n",
    "    "
   ]
  },
  {
   "cell_type": "code",
   "execution_count": 14,
   "id": "29505398",
   "metadata": {},
   "outputs": [],
   "source": [
    "from httpcore import TimeoutException\n",
    "from selenium.common.exceptions import StaleElementReferenceException\n",
    "from selenium.common.exceptions import NoAlertPresentException\n",
    "\n",
    "def downloadExcelFile():\n",
    "    print('Excel 다운로드!')\n",
    "    global driver\n",
    "\n",
    "    try:\n",
    "        exl_btn = driver.find_element(By.CSS_SELECTOR,\".f_sch\").find_element(By.TAG_NAME, \"a\")\n",
    "        WebDriverWait(driver, 240).until(EC.element_to_be_clickable(exl_btn))\n",
    "        exl_btn.click()\n",
    "    except StaleElementReferenceException:\n",
    "        print(\"StaleElementReferenceException!\")\n",
    "        time.sleep(1)\n",
    "        exl_btn = driver.find_element(By.CSS_SELECTOR,\".f_sch\").find_element(By.TAG_NAME, \"a\")\n",
    "        WebDriverWait(driver, 240).until(EC.element_to_be_clickable(exl_btn))\n",
    "        exl_btn.click()\n",
    "    except TimeoutException as e:\n",
    "        print(\"TimeoutException!\")\n",
    "        time.sleep(60)\n",
    "    finally:\n",
    "        pass\n",
    "\n",
    "    try:\n",
    "        alert = driver.switch_to.alert\n",
    "        alert.accept()\n",
    "        print(\"clearExlDownAlert\")\n",
    "    except NoAlertPresentException as e:\n",
    "        print('NoAlertPresentException!')#, str(e))\n"
   ]
  },
  {
   "cell_type": "code",
   "execution_count": 15,
   "id": "9b6218d9",
   "metadata": {},
   "outputs": [],
   "source": [
    "# 박스오피스 일별 진입\n",
    "\n",
    "options = webdriver.ChromeOptions()\n",
    "download_path = '/home/addinedu/Project_ws/eda-repo-2/Boxoffice/output'\n",
    "driver_path = '/home/addinedu/Project_ws/eda-repo-2/ShoppingList/driver/chromedriver'\n",
    "prefs = {'download.default_directory':download_path, 'download.prompt_for_download':False}\n",
    "options.add_experimental_option('prefs', prefs)\n",
    "\n",
    "driver = webdriver.Chrome(service=Service(driver_path), options=options)\n",
    "driver.get(\"https://www.kobis.or.kr/\")\n",
    "\n",
    "# Top Menu : boxoffice click\n",
    "top_menu_link_list = driver.find_elements(By.CLASS_NAME, 'tit_nav')\n",
    "box_office_link = top_menu_link_list[1]\n",
    "box_office_link.send_keys(Keys.ENTER)"
   ]
  },
  {
   "cell_type": "code",
   "execution_count": 16,
   "id": "f324f223",
   "metadata": {},
   "outputs": [
    {
     "name": "stdout",
     "output_type": "stream",
     "text": [
      "nation_list ['K', 'F']\n",
      "1 / 5 ['2024', '9월', '13'] K"
     ]
    },
    {
     "name": "stderr",
     "output_type": "stream",
     "text": [
      "  0%|          | 0/17 [00:00<?, ?it/s]"
     ]
    },
    {
     "name": "stdout",
     "output_type": "stream",
     "text": [
      "조회!\n",
      "Excel 다운로드!\n",
      "clearExlDownAlert\n"
     ]
    },
    {
     "name": "stderr",
     "output_type": "stream",
     "text": [
      "  6%|▌         | 1/17 [00:07<01:57,  7.33s/it]"
     ]
    },
    {
     "name": "stdout",
     "output_type": "stream",
     "text": [
      "조회!\n",
      "Excel 다운로드!\n",
      "clearExlDownAlert\n"
     ]
    },
    {
     "name": "stderr",
     "output_type": "stream",
     "text": [
      " 12%|█▏        | 2/17 [00:14<01:45,  7.02s/it]\n"
     ]
    },
    {
     "ename": "KeyboardInterrupt",
     "evalue": "",
     "output_type": "error",
     "traceback": [
      "\u001b[31m---------------------------------------------------------------------------\u001b[39m",
      "\u001b[31mKeyboardInterrupt\u001b[39m                         Traceback (most recent call last)",
      "\u001b[36mCell\u001b[39m\u001b[36m \u001b[39m\u001b[32mIn[16]\u001b[39m\u001b[32m, line 40\u001b[39m\n\u001b[32m     38\u001b[39m region_select = driver.find_element(By.ID, \u001b[33m\"\u001b[39m\u001b[33msWideAreaCd\u001b[39m\u001b[33m\"\u001b[39m)\u001b[38;5;66;03m# !!이렇게 안쓰니 StaleElementReferenceException 에러가 나는데...\u001b[39;00m\n\u001b[32m     39\u001b[39m Select(region_select).select_by_value(r_val)\n\u001b[32m---> \u001b[39m\u001b[32m40\u001b[39m \u001b[43mtime\u001b[49m\u001b[43m.\u001b[49m\u001b[43msleep\u001b[49m\u001b[43m(\u001b[49m\u001b[43m \u001b[49m\u001b[43mrandom\u001b[49m\u001b[43m.\u001b[49m\u001b[43muniform\u001b[49m\u001b[43m(\u001b[49m\u001b[32;43m1\u001b[39;49m\u001b[43m,\u001b[49m\u001b[32;43m2\u001b[39;49m\u001b[43m)\u001b[49m\u001b[43m \u001b[49m\u001b[43m)\u001b[49m\n\u001b[32m     42\u001b[39m clickSearchButton() \u001b[38;5;66;03m# type: ignore # time.sleep( random.uniform(5,8) )\u001b[39;00m\n\u001b[32m     44\u001b[39m downloadExcelFile()\n",
      "\u001b[31mKeyboardInterrupt\u001b[39m: "
     ]
    }
   ],
   "source": [
    "#   - 24년 9/13 start_date 설정하여 일주일치 한번에 \n",
    "#   - 25년 9/26, 10/3, 10/10, 10/17 start_date 설정하여 일주일치 한번에 \n",
    "daily_start_date_list = [\n",
    "    ['2024', '9월', '13'],\n",
    "    ['2025', '9월', '26'],\n",
    "    ['2025', '10월', '3'],\n",
    "    ['2025', '10월', '10'],\n",
    "    ['2025', '10월', '17']\n",
    "]\n",
    "\n",
    "#한국/외국\n",
    "nation_select = driver.find_element(By.ID, \"sRepNationCd\")\n",
    "nation_option_list = nation_select.find_elements(By.TAG_NAME, \"option\")\n",
    "nation_list = [n_opt.get_attribute(\"value\") for n_opt in nation_option_list if n_opt.get_attribute(\"value\")]\n",
    "print('nation_list', nation_list)\n",
    "\n",
    "#region\n",
    "#지역 선택: 개별지역 돌아가며\n",
    "region_select = driver.find_element(By.ID, \"sWideAreaCd\")\n",
    "region_option_list = region_select.find_elements(By.TAG_NAME, \"option\")\n",
    "region_list = [r_opt.get_attribute(\"value\") for r_opt in region_option_list if r_opt.get_attribute(\"value\")]\n",
    "\n",
    "#date\n",
    "date_len = len(daily_start_date_list)\n",
    "# for di, start_date in enumerate(tqdm(daily_start_date_list)):\n",
    "for di, start_date in enumerate(daily_start_date_list):\n",
    "    print(di+1, '/', date_len, start_date, end=' ')\n",
    "    set_daily_searh_date_option_by_start_date(driver, start_date)\n",
    "    time.sleep(0.5)\n",
    "\n",
    "    for n_val in nation_list:\n",
    "        print(n_val, end='')\n",
    "        nation_select = driver.find_element(By.ID, \"sRepNationCd\")\n",
    "        Select(nation_select).select_by_value(n_val)\n",
    "\n",
    "        for r_val in tqdm(region_list):#[:3]):#!! 일부만!!\n",
    "            # print(r_val)\n",
    "            region_select = driver.find_element(By.ID, \"sWideAreaCd\")# !!이렇게 안쓰니 StaleElementReferenceException 에러가 나는데...\n",
    "            Select(region_select).select_by_value(r_val)\n",
    "            time.sleep( random.uniform(1,2) )\n",
    "\n",
    "            clickSearchButton() # type: ignore # time.sleep( random.uniform(5,8) )\n",
    "\n",
    "            downloadExcelFile()\n",
    "            time.sleep( random.uniform(3,5) )\n"
   ]
  },
  {
   "cell_type": "markdown",
   "id": "e2b19aab",
   "metadata": {},
   "source": [
    "^^^^ KeyboardInterrupt : 다 받은 후 재시도. 로그 줄이기 위해 강제 종료시킴 ^^^^"
   ]
  },
  {
   "cell_type": "code",
   "execution_count": 19,
   "id": "9bc4beeb",
   "metadata": {},
   "outputs": [
    {
     "data": {
      "text/plain": [
       "170"
      ]
     },
     "execution_count": 19,
     "metadata": {},
     "output_type": "execute_result"
    }
   ],
   "source": [
    "# down file check. len\n",
    "from glob import glob\n",
    "\n",
    "file_list = glob(download_path + '/KOBIS_*')\n",
    "len(file_list)\n"
   ]
  },
  {
   "cell_type": "code",
   "execution_count": 20,
   "id": "0016926d",
   "metadata": {},
   "outputs": [],
   "source": [
    "import pandas as pd\n",
    "import re\n",
    "\n",
    "def get_dataframe_from_daily_excel(soup):\n",
    "    div_elems = soup.find_all('div')\n",
    "    table_elems = soup.find_all('table')[1:]#날짜별로, 첫 테이블은 검색조건\n",
    "\n",
    "    total_data_list = []\n",
    "\n",
    "    for ti, table in enumerate(table_elems):\n",
    "        date_div = div_elems[ti]\n",
    "        date = re.findall(r'\\d+년 \\d+월 \\d+일', date_div.text.strip())[0]# print(date_div.text.strip())\n",
    "\n",
    "        rows = table.find_all('tr')\n",
    "        end_row_num = len(rows)\n",
    "        for ri,row in enumerate(rows):\n",
    "\n",
    "            row_data = []\n",
    "\n",
    "            if ri==0:#head\n",
    "                if ti == 0:\n",
    "                    row_data.append('일자')\n",
    "                    cols = row.find_all('th')\n",
    "                    for ci, th in enumerate(cols):\n",
    "                        if ci in (1,2,3,8,12,13,14,16,18,19,20,21):#영화명, 개봉일, 매출액, 관객수, 스크린수, 상영횟수, 14대표국적, 16제작사, 17배급사, 18등급, 19장르, 20감독, 21배우\n",
    "                            row_data.append(th.text.strip())\n",
    "\n",
    "                    total_data_list.append(row_data)\n",
    "\n",
    "            elif ri == end_row_num-1:#bottom sum\n",
    "                pass\n",
    "\n",
    "            else:\n",
    "                row_data.append(date)\n",
    "                cols = row.find_all('td')\n",
    "\n",
    "                for ci, td in enumerate(cols):\n",
    "                    # if ci == 0:\n",
    "                    #     row_data.append(int(td.text.strip()))\n",
    "                    # elif ci == 1:#str 영화명\n",
    "                    #     row_data.append(td.text.strip())\n",
    "                    # elif ci == 3:\n",
    "                    #     row_data.append(int(td.text.strip()))\n",
    "                    # elif ci == 8:\n",
    "                    #     row_data.append(int(td.text.strip()))\n",
    "                    # elif ci == 12:\n",
    "                    #     row_data.append(int(td.text.strip()))\n",
    "                    # elif ci == 13:\n",
    "                    #     row_data.append(int(td.text.strip()))\n",
    "                    if ci in (1, 14,16,18,19,20,21):\n",
    "                        row_data.append(td.text.strip())\n",
    "                    elif ci == 2:\n",
    "                        row_data.append(td.text.strip())\n",
    "                    elif ci in (3,8,12,13):\n",
    "                        row_data.append(int(td.text.strip()))\n",
    "\n",
    "\n",
    "\n",
    "                total_data_list.append(row_data)\n",
    "\n",
    "    df = pd.DataFrame(total_data_list[1:], columns=total_data_list[0])\n",
    "\n",
    "    return df"
   ]
  },
  {
   "cell_type": "code",
   "execution_count": 21,
   "id": "cb4519fb",
   "metadata": {},
   "outputs": [
    {
     "name": "stderr",
     "output_type": "stream",
     "text": [
      "  0%|          | 0/170 [00:00<?, ?it/s]"
     ]
    },
    {
     "name": "stdout",
     "output_type": "stream",
     "text": [
      "0 /home/addinedu/Project_ws/eda-repo-2/Boxoffice/output/KOBIS_일별_박스오피스_2025-10-22 - 2025-10-22T192958.218.xls, "
     ]
    },
    {
     "name": "stderr",
     "output_type": "stream",
     "text": [
      "  1%|          | 1/170 [00:00<00:48,  3.52it/s]"
     ]
    },
    {
     "name": "stdout",
     "output_type": "stream",
     "text": [
      "서울시\n",
      "1 /home/addinedu/Project_ws/eda-repo-2/Boxoffice/output/KOBIS_일별_박스오피스_2025-10-22 - 2025-10-22T192604.711.xls, "
     ]
    },
    {
     "name": "stderr",
     "output_type": "stream",
     "text": [
      "  2%|▏         | 3/170 [00:00<00:30,  5.53it/s]"
     ]
    },
    {
     "name": "stdout",
     "output_type": "stream",
     "text": [
      "충청남도\n",
      "2 /home/addinedu/Project_ws/eda-repo-2/Boxoffice/output/KOBIS_일별_박스오피스_2025-10-22 (4).xls, 충청남도\n",
      "3 /home/addinedu/Project_ws/eda-repo-2/Boxoffice/output/KOBIS_일별_박스오피스_2025-10-22 - 2025-10-22T193120.791.xls, 울산시\n",
      "4 /home/addinedu/Project_ws/eda-repo-2/Boxoffice/output/KOBIS_일별_박스오피스_2025-10-22 (18).xls, "
     ]
    },
    {
     "name": "stderr",
     "output_type": "stream",
     "text": [
      "  3%|▎         | 5/170 [00:01<00:37,  4.40it/s]"
     ]
    },
    {
     "name": "stdout",
     "output_type": "stream",
     "text": [
      "경기도\n",
      "5 /home/addinedu/Project_ws/eda-repo-2/Boxoffice/output/KOBIS_일별_박스오피스_2025-10-22 - 2025-10-22T192540.278.xls, "
     ]
    },
    {
     "name": "stderr",
     "output_type": "stream",
     "text": [
      "  5%|▍         | 8/170 [00:01<00:32,  5.05it/s]"
     ]
    },
    {
     "name": "stdout",
     "output_type": "stream",
     "text": [
      "서울시\n",
      "6 /home/addinedu/Project_ws/eda-repo-2/Boxoffice/output/KOBIS_일별_박스오피스_2025-10-22 - 2025-10-22T192343.908.xls, 세종시\n",
      "7 /home/addinedu/Project_ws/eda-repo-2/Boxoffice/output/KOBIS_일별_박스오피스_2025-10-22 (37).xls, 충청북도\n",
      "8 /home/addinedu/Project_ws/eda-repo-2/Boxoffice/output/KOBIS_일별_박스오피스_2025-10-22 (80).xls, "
     ]
    },
    {
     "name": "stderr",
     "output_type": "stream",
     "text": [
      "  6%|▌         | 10/170 [00:01<00:26,  6.07it/s]"
     ]
    },
    {
     "name": "stdout",
     "output_type": "stream",
     "text": [
      "대전시\n",
      "9 /home/addinedu/Project_ws/eda-repo-2/Boxoffice/output/KOBIS_일별_박스오피스_2025-10-22 (40).xls, 경상남도\n",
      "10 /home/addinedu/Project_ws/eda-repo-2/Boxoffice/output/KOBIS_일별_박스오피스_2025-10-22 (13).xls, "
     ]
    },
    {
     "name": "stderr",
     "output_type": "stream",
     "text": [
      "  7%|▋         | 12/170 [00:02<00:25,  6.10it/s]"
     ]
    },
    {
     "name": "stdout",
     "output_type": "stream",
     "text": [
      "울산시\n",
      "11 /home/addinedu/Project_ws/eda-repo-2/Boxoffice/output/KOBIS_일별_박스오피스_2025-10-22 (71).xls, 충청북도\n",
      "12 /home/addinedu/Project_ws/eda-repo-2/Boxoffice/output/KOBIS_일별_박스오피스_2025-10-22 (21).xls, "
     ]
    },
    {
     "name": "stderr",
     "output_type": "stream",
     "text": [
      "  8%|▊         | 13/170 [00:02<00:26,  5.89it/s]"
     ]
    },
    {
     "name": "stdout",
     "output_type": "stream",
     "text": [
      "충청남도\n",
      "13 /home/addinedu/Project_ws/eda-repo-2/Boxoffice/output/KOBIS_일별_박스오피스_2025-10-22 (61).xls, "
     ]
    },
    {
     "name": "stderr",
     "output_type": "stream",
     "text": [
      "  9%|▉         | 15/170 [00:02<00:27,  5.67it/s]"
     ]
    },
    {
     "name": "stdout",
     "output_type": "stream",
     "text": [
      "부산시\n",
      "14 /home/addinedu/Project_ws/eda-repo-2/Boxoffice/output/KOBIS_일별_박스오피스_2025-10-22 (7).xls, 전라북도\n",
      "15 /home/addinedu/Project_ws/eda-repo-2/Boxoffice/output/KOBIS_일별_박스오피스_2025-10-22 (95).xls, "
     ]
    },
    {
     "name": "stderr",
     "output_type": "stream",
     "text": [
      "  9%|▉         | 16/170 [00:03<00:28,  5.46it/s]"
     ]
    },
    {
     "name": "stdout",
     "output_type": "stream",
     "text": [
      "부산시\n",
      "16 /home/addinedu/Project_ws/eda-repo-2/Boxoffice/output/KOBIS_일별_박스오피스_2025-10-22 (11).xls, "
     ]
    },
    {
     "name": "stderr",
     "output_type": "stream",
     "text": [
      " 11%|█         | 18/170 [00:03<00:27,  5.51it/s]"
     ]
    },
    {
     "name": "stdout",
     "output_type": "stream",
     "text": [
      "대구시\n",
      "17 /home/addinedu/Project_ws/eda-repo-2/Boxoffice/output/KOBIS_일별_박스오피스_2025-10-22 (36).xls, 강원도\n",
      "18 /home/addinedu/Project_ws/eda-repo-2/Boxoffice/output/KOBIS_일별_박스오피스_2025-10-22 - 2025-10-22T193108.965.xls, "
     ]
    },
    {
     "name": "stderr",
     "output_type": "stream",
     "text": [
      " 11%|█         | 19/170 [00:03<00:23,  6.30it/s]"
     ]
    },
    {
     "name": "stdout",
     "output_type": "stream",
     "text": [
      "대구시\n",
      "19 /home/addinedu/Project_ws/eda-repo-2/Boxoffice/output/KOBIS_일별_박스오피스_2025-10-22 (68).xls, "
     ]
    },
    {
     "name": "stderr",
     "output_type": "stream",
     "text": [
      " 12%|█▏        | 20/170 [00:03<00:32,  4.67it/s]"
     ]
    },
    {
     "name": "stdout",
     "output_type": "stream",
     "text": [
      "서울시\n",
      "20 /home/addinedu/Project_ws/eda-repo-2/Boxoffice/output/KOBIS_일별_박스오피스_2025-10-22 - 2025-10-22T192629.303.xls, 전라남도\n",
      "21 /home/addinedu/Project_ws/eda-repo-2/Boxoffice/output/KOBIS_일별_박스오피스_2025-10-22 (17).xls, "
     ]
    },
    {
     "name": "stderr",
     "output_type": "stream",
     "text": [
      " 13%|█▎        | 22/170 [00:04<00:40,  3.62it/s]"
     ]
    },
    {
     "name": "stdout",
     "output_type": "stream",
     "text": [
      "서울시\n",
      "22 /home/addinedu/Project_ws/eda-repo-2/Boxoffice/output/KOBIS_일별_박스오피스_2025-10-22 - 2025-10-22T192708.144.xls, "
     ]
    },
    {
     "name": "stderr",
     "output_type": "stream",
     "text": [
      " 14%|█▎        | 23/170 [00:04<00:37,  3.88it/s]"
     ]
    },
    {
     "name": "stdout",
     "output_type": "stream",
     "text": [
      "인천시\n",
      "23 /home/addinedu/Project_ws/eda-repo-2/Boxoffice/output/KOBIS_일별_박스오피스_2025-10-22 - 2025-10-22T192501.205.xls, "
     ]
    },
    {
     "name": "stderr",
     "output_type": "stream",
     "text": [
      " 15%|█▍        | 25/170 [00:05<00:32,  4.42it/s]"
     ]
    },
    {
     "name": "stdout",
     "output_type": "stream",
     "text": [
      "대구시\n",
      "24 /home/addinedu/Project_ws/eda-repo-2/Boxoffice/output/KOBIS_일별_박스오피스_2025-10-22 - 2025-10-22T192436.115.xls, 전라북도\n",
      "25 /home/addinedu/Project_ws/eda-repo-2/Boxoffice/output/KOBIS_일별_박스오피스_2025-10-22 (34).xls, "
     ]
    },
    {
     "name": "stderr",
     "output_type": "stream",
     "text": [
      " 15%|█▌        | 26/170 [00:05<00:37,  3.81it/s]"
     ]
    },
    {
     "name": "stdout",
     "output_type": "stream",
     "text": [
      "서울시\n",
      "26 /home/addinedu/Project_ws/eda-repo-2/Boxoffice/output/KOBIS_일별_박스오피스_2025-10-22 - 2025-10-22T192635.460.xls, 제주도\n",
      "27 /home/addinedu/Project_ws/eda-repo-2/Boxoffice/output/KOBIS_일별_박스오피스_2025-10-22 (62).xls, "
     ]
    },
    {
     "name": "stderr",
     "output_type": "stream",
     "text": [
      " 16%|█▋        | 28/170 [00:05<00:28,  4.96it/s]"
     ]
    },
    {
     "name": "stdout",
     "output_type": "stream",
     "text": [
      "대구시\n",
      "28 /home/addinedu/Project_ws/eda-repo-2/Boxoffice/output/KOBIS_일별_박스오피스_2025-10-22 (84).xls, 세종시\n",
      "29 /home/addinedu/Project_ws/eda-repo-2/Boxoffice/output/KOBIS_일별_박스오피스_2025-10-22 - 2025-10-22T192454.296.xls, "
     ]
    },
    {
     "name": "stderr",
     "output_type": "stream",
     "text": [
      " 18%|█▊        | 31/170 [00:06<00:25,  5.51it/s]"
     ]
    },
    {
     "name": "stdout",
     "output_type": "stream",
     "text": [
      "부산시\n",
      "30 /home/addinedu/Project_ws/eda-repo-2/Boxoffice/output/KOBIS_일별_박스오피스_2025-10-22 (30).xls, 울산시\n",
      "31 /home/addinedu/Project_ws/eda-repo-2/Boxoffice/output/KOBIS_일별_박스오피스_2025-10-22 (1).xls, "
     ]
    },
    {
     "name": "stderr",
     "output_type": "stream",
     "text": [
      " 19%|█▉        | 32/170 [00:06<00:24,  5.74it/s]"
     ]
    },
    {
     "name": "stdout",
     "output_type": "stream",
     "text": [
      "경기도\n",
      "32 /home/addinedu/Project_ws/eda-repo-2/Boxoffice/output/KOBIS_일별_박스오피스_2025-10-22 (2).xls, "
     ]
    },
    {
     "name": "stderr",
     "output_type": "stream",
     "text": [
      " 20%|██        | 34/170 [00:06<00:24,  5.59it/s]"
     ]
    },
    {
     "name": "stdout",
     "output_type": "stream",
     "text": [
      "강원도\n",
      "33 /home/addinedu/Project_ws/eda-repo-2/Boxoffice/output/KOBIS_일별_박스오피스_2025-10-22 (79).xls, 대구시\n",
      "34 /home/addinedu/Project_ws/eda-repo-2/Boxoffice/output/KOBIS_일별_박스오피스_2025-10-22 - 2025-10-22T192854.895.xls, "
     ]
    },
    {
     "name": "stderr",
     "output_type": "stream",
     "text": [
      " 21%|██        | 36/170 [00:07<00:18,  7.21it/s]"
     ]
    },
    {
     "name": "stdout",
     "output_type": "stream",
     "text": [
      "울산시\n",
      "35 /home/addinedu/Project_ws/eda-repo-2/Boxoffice/output/KOBIS_일별_박스오피스_2025-10-22 (26).xls, 제주도\n",
      "36 /home/addinedu/Project_ws/eda-repo-2/Boxoffice/output/KOBIS_일별_박스오피스_2025-10-22 (75).xls, "
     ]
    },
    {
     "name": "stderr",
     "output_type": "stream",
     "text": [
      " 22%|██▏       | 38/170 [00:07<00:19,  6.86it/s]"
     ]
    },
    {
     "name": "stdout",
     "output_type": "stream",
     "text": [
      "전라북도\n",
      "37 /home/addinedu/Project_ws/eda-repo-2/Boxoffice/output/KOBIS_일별_박스오피스_2025-10-22 (59).xls, 전라남도\n",
      "38 /home/addinedu/Project_ws/eda-repo-2/Boxoffice/output/KOBIS_일별_박스오피스_2025-10-22 (33).xls, 세종시\n",
      "39 /home/addinedu/Project_ws/eda-repo-2/Boxoffice/output/KOBIS_일별_박스오피스_2025-10-22 (65).xls, "
     ]
    },
    {
     "name": "stderr",
     "output_type": "stream",
     "text": [
      " 24%|██▎       | 40/170 [00:07<00:18,  6.87it/s]"
     ]
    },
    {
     "name": "stdout",
     "output_type": "stream",
     "text": [
      "인천시\n",
      "40 /home/addinedu/Project_ws/eda-repo-2/Boxoffice/output/KOBIS_일별_박스오피스_2025-10-22 (91).xls, "
     ]
    },
    {
     "name": "stderr",
     "output_type": "stream",
     "text": [
      " 25%|██▍       | 42/170 [00:08<00:21,  6.02it/s]"
     ]
    },
    {
     "name": "stdout",
     "output_type": "stream",
     "text": [
      "경상남도\n",
      "41 /home/addinedu/Project_ws/eda-repo-2/Boxoffice/output/KOBIS_일별_박스오피스_2025-10-22 (23).xls, 경상남도\n",
      "42 /home/addinedu/Project_ws/eda-repo-2/Boxoffice/output/KOBIS_일별_박스오피스_2025-10-22 (78).xls, "
     ]
    },
    {
     "name": "stderr",
     "output_type": "stream",
     "text": [
      " 25%|██▌       | 43/170 [00:08<00:21,  6.04it/s]"
     ]
    },
    {
     "name": "stdout",
     "output_type": "stream",
     "text": [
      "부산시\n",
      "43 /home/addinedu/Project_ws/eda-repo-2/Boxoffice/output/KOBIS_일별_박스오피스_2025-10-22 (25).xls, "
     ]
    },
    {
     "name": "stderr",
     "output_type": "stream",
     "text": [
      " 26%|██▋       | 45/170 [00:08<00:22,  5.56it/s]"
     ]
    },
    {
     "name": "stdout",
     "output_type": "stream",
     "text": [
      "전라남도\n",
      "44 /home/addinedu/Project_ws/eda-repo-2/Boxoffice/output/KOBIS_일별_박스오피스_2025-10-22 - 2025-10-22T192655.677.xls, 대전시\n",
      "45 /home/addinedu/Project_ws/eda-repo-2/Boxoffice/output/KOBIS_일별_박스오피스_2025-10-22 (100).xls, "
     ]
    },
    {
     "name": "stderr",
     "output_type": "stream",
     "text": [
      " 27%|██▋       | 46/170 [00:08<00:21,  5.74it/s]"
     ]
    },
    {
     "name": "stdout",
     "output_type": "stream",
     "text": [
      "광주시\n",
      "46 /home/addinedu/Project_ws/eda-repo-2/Boxoffice/output/KOBIS_일별_박스오피스_2025-10-22 (29).xls, "
     ]
    },
    {
     "name": "stderr",
     "output_type": "stream",
     "text": [
      " 28%|██▊       | 47/170 [00:09<00:27,  4.52it/s]"
     ]
    },
    {
     "name": "stdout",
     "output_type": "stream",
     "text": [
      "대전시\n",
      "47 /home/addinedu/Project_ws/eda-repo-2/Boxoffice/output/KOBIS_일별_박스오피스_2025-10-22 - 2025-10-22T192728.310.xls, "
     ]
    },
    {
     "name": "stderr",
     "output_type": "stream",
     "text": [
      " 28%|██▊       | 48/170 [00:09<00:26,  4.56it/s]"
     ]
    },
    {
     "name": "stdout",
     "output_type": "stream",
     "text": [
      "서울시\n",
      "48 /home/addinedu/Project_ws/eda-repo-2/Boxoffice/output/KOBIS_일별_박스오피스_2025-10-22 (92).xls, "
     ]
    },
    {
     "name": "stderr",
     "output_type": "stream",
     "text": [
      " 30%|███       | 51/170 [00:09<00:20,  5.73it/s]"
     ]
    },
    {
     "name": "stdout",
     "output_type": "stream",
     "text": [
      "전라북도\n",
      "49 /home/addinedu/Project_ws/eda-repo-2/Boxoffice/output/KOBIS_일별_박스오피스_2025-10-22 - 2025-10-22T192418.280.xls, 충청남도\n",
      "50 /home/addinedu/Project_ws/eda-repo-2/Boxoffice/output/KOBIS_일별_박스오피스_2025-10-22 - 2025-10-22T192754.526.xls, 충청남도\n",
      "51 /home/addinedu/Project_ws/eda-repo-2/Boxoffice/output/KOBIS_일별_박스오피스_2025-10-22 - 2025-10-22T192545.965.xls, "
     ]
    },
    {
     "name": "stderr",
     "output_type": "stream",
     "text": [
      " 31%|███       | 53/170 [00:10<00:22,  5.28it/s]"
     ]
    },
    {
     "name": "stdout",
     "output_type": "stream",
     "text": [
      "경기도\n",
      "52 /home/addinedu/Project_ws/eda-repo-2/Boxoffice/output/KOBIS_일별_박스오피스_2025-10-22 - 2025-10-22T193042.611.xls, 전라북도\n",
      "53 /home/addinedu/Project_ws/eda-repo-2/Boxoffice/output/KOBIS_일별_박스오피스_2025-10-22 (83).xls, "
     ]
    },
    {
     "name": "stderr",
     "output_type": "stream",
     "text": [
      " 32%|███▏      | 54/170 [00:10<00:19,  5.87it/s]"
     ]
    },
    {
     "name": "stdout",
     "output_type": "stream",
     "text": [
      "광주시\n",
      "54 /home/addinedu/Project_ws/eda-repo-2/Boxoffice/output/KOBIS_일별_박스오피스_2025-10-22 (48).xls, "
     ]
    },
    {
     "name": "stderr",
     "output_type": "stream",
     "text": [
      " 34%|███▎      | 57/170 [00:10<00:16,  6.93it/s]"
     ]
    },
    {
     "name": "stdout",
     "output_type": "stream",
     "text": [
      "인천시\n",
      "55 /home/addinedu/Project_ws/eda-repo-2/Boxoffice/output/KOBIS_일별_박스오피스_2025-10-22 (77).xls, 제주도\n",
      "56 /home/addinedu/Project_ws/eda-repo-2/Boxoffice/output/KOBIS_일별_박스오피스_2025-10-22 - 2025-10-22T193049.346.xls, 전라남도\n",
      "57 /home/addinedu/Project_ws/eda-repo-2/Boxoffice/output/KOBIS_일별_박스오피스_2025-10-22 (54).xls, "
     ]
    },
    {
     "name": "stderr",
     "output_type": "stream",
     "text": [
      " 34%|███▍      | 58/170 [00:11<00:15,  7.05it/s]"
     ]
    },
    {
     "name": "stdout",
     "output_type": "stream",
     "text": [
      "충청북도\n",
      "58 /home/addinedu/Project_ws/eda-repo-2/Boxoffice/output/KOBIS_일별_박스오피스_2025-10-22 (67).xls, 세종시\n",
      "59 /home/addinedu/Project_ws/eda-repo-2/Boxoffice/output/KOBIS_일별_박스오피스_2025-10-22 - 2025-10-22T193029.021.xls, "
     ]
    },
    {
     "name": "stderr",
     "output_type": "stream",
     "text": [
      " 36%|███▌      | 61/170 [00:11<00:14,  7.53it/s]"
     ]
    },
    {
     "name": "stdout",
     "output_type": "stream",
     "text": [
      "경상북도\n",
      "60 /home/addinedu/Project_ws/eda-repo-2/Boxoffice/output/KOBIS_일별_박스오피스_2025-10-22 (14).xls, 인천시\n",
      "61 /home/addinedu/Project_ws/eda-repo-2/Boxoffice/output/KOBIS_일별_박스오피스_2025-10-22 (49).xls, "
     ]
    },
    {
     "name": "stderr",
     "output_type": "stream",
     "text": [
      " 37%|███▋      | 63/170 [00:11<00:13,  8.07it/s]"
     ]
    },
    {
     "name": "stdout",
     "output_type": "stream",
     "text": [
      "광주시\n",
      "62 /home/addinedu/Project_ws/eda-repo-2/Boxoffice/output/KOBIS_일별_박스오피스_2025-10-22 - 2025-10-22T192411.645.xls, 충청북도\n",
      "63 /home/addinedu/Project_ws/eda-repo-2/Boxoffice/output/KOBIS_일별_박스오피스_2025-10-22 - 2025-10-22T192835.727.xls, "
     ]
    },
    {
     "name": "stderr",
     "output_type": "stream",
     "text": [
      " 38%|███▊      | 65/170 [00:12<00:17,  6.07it/s]"
     ]
    },
    {
     "name": "stdout",
     "output_type": "stream",
     "text": [
      "부산시\n",
      "64 /home/addinedu/Project_ws/eda-repo-2/Boxoffice/output/KOBIS_일별_박스오피스_2025-10-22.xls, 서울시\n",
      "65 /home/addinedu/Project_ws/eda-repo-2/Boxoffice/output/KOBIS_일별_박스오피스_2025-10-22 (56).xls, "
     ]
    },
    {
     "name": "stderr",
     "output_type": "stream",
     "text": [
      " 39%|███▉      | 66/170 [00:12<00:16,  6.40it/s]"
     ]
    },
    {
     "name": "stdout",
     "output_type": "stream",
     "text": [
      "경상북도\n",
      "66 /home/addinedu/Project_ws/eda-repo-2/Boxoffice/output/KOBIS_일별_박스오피스_2025-10-22 - 2025-10-22T192424.202.xls, "
     ]
    },
    {
     "name": "stderr",
     "output_type": "stream",
     "text": [
      " 40%|████      | 68/170 [00:12<00:18,  5.59it/s]"
     ]
    },
    {
     "name": "stdout",
     "output_type": "stream",
     "text": [
      "경상북도\n",
      "67 /home/addinedu/Project_ws/eda-repo-2/Boxoffice/output/KOBIS_일별_박스오피스_2025-10-22 (58).xls, 전라북도\n",
      "68 /home/addinedu/Project_ws/eda-repo-2/Boxoffice/output/KOBIS_일별_박스오피스_2025-10-22 (47).xls, "
     ]
    },
    {
     "name": "stderr",
     "output_type": "stream",
     "text": [
      " 41%|████      | 69/170 [00:12<00:16,  6.26it/s]"
     ]
    },
    {
     "name": "stdout",
     "output_type": "stream",
     "text": [
      "울산시\n",
      "69 /home/addinedu/Project_ws/eda-repo-2/Boxoffice/output/KOBIS_일별_박스오피스_2025-10-22 (99).xls, "
     ]
    },
    {
     "name": "stderr",
     "output_type": "stream",
     "text": [
      " 42%|████▏     | 71/170 [00:13<00:20,  4.84it/s]"
     ]
    },
    {
     "name": "stdout",
     "output_type": "stream",
     "text": [
      "인천시\n",
      "70 /home/addinedu/Project_ws/eda-repo-2/Boxoffice/output/KOBIS_일별_박스오피스_2025-10-22 (66).xls, 광주시\n",
      "71 /home/addinedu/Project_ws/eda-repo-2/Boxoffice/output/KOBIS_일별_박스오피스_2025-10-22 (15).xls, "
     ]
    },
    {
     "name": "stderr",
     "output_type": "stream",
     "text": [
      " 42%|████▏     | 72/170 [00:13<00:18,  5.32it/s]"
     ]
    },
    {
     "name": "stdout",
     "output_type": "stream",
     "text": [
      "광주시\n",
      "72 /home/addinedu/Project_ws/eda-repo-2/Boxoffice/output/KOBIS_일별_박스오피스_2025-10-22 - 2025-10-22T192938.049.xls, "
     ]
    },
    {
     "name": "stderr",
     "output_type": "stream",
     "text": [
      " 44%|████▎     | 74/170 [00:13<00:17,  5.54it/s]"
     ]
    },
    {
     "name": "stdout",
     "output_type": "stream",
     "text": [
      "인천시\n",
      "73 /home/addinedu/Project_ws/eda-repo-2/Boxoffice/output/KOBIS_일별_박스오피스_2025-10-22 (39).xls, 경상북도\n",
      "74 /home/addinedu/Project_ws/eda-repo-2/Boxoffice/output/KOBIS_일별_박스오피스_2025-10-22 (53).xls, "
     ]
    },
    {
     "name": "stderr",
     "output_type": "stream",
     "text": [
      " 44%|████▍     | 75/170 [00:13<00:16,  5.63it/s]"
     ]
    },
    {
     "name": "stdout",
     "output_type": "stream",
     "text": [
      "강원도\n",
      "75 /home/addinedu/Project_ws/eda-repo-2/Boxoffice/output/KOBIS_일별_박스오피스_2025-10-22 (97).xls, "
     ]
    },
    {
     "name": "stderr",
     "output_type": "stream",
     "text": [
      " 45%|████▌     | 77/170 [00:14<00:18,  5.03it/s]"
     ]
    },
    {
     "name": "stdout",
     "output_type": "stream",
     "text": [
      "대전시\n",
      "76 /home/addinedu/Project_ws/eda-repo-2/Boxoffice/output/KOBIS_일별_박스오피스_2025-10-22 (32).xls, 광주시\n",
      "77 /home/addinedu/Project_ws/eda-repo-2/Boxoffice/output/KOBIS_일별_박스오피스_2025-10-22 (51).xls, "
     ]
    },
    {
     "name": "stderr",
     "output_type": "stream",
     "text": [
      " 46%|████▋     | 79/170 [00:15<00:24,  3.74it/s]"
     ]
    },
    {
     "name": "stdout",
     "output_type": "stream",
     "text": [
      "서울시\n",
      "78 /home/addinedu/Project_ws/eda-repo-2/Boxoffice/output/KOBIS_일별_박스오피스_2025-10-22 (19).xls, 강원도\n",
      "79 /home/addinedu/Project_ws/eda-repo-2/Boxoffice/output/KOBIS_일별_박스오피스_2025-10-22 (22).xls, "
     ]
    },
    {
     "name": "stderr",
     "output_type": "stream",
     "text": [
      " 47%|████▋     | 80/170 [00:15<00:20,  4.38it/s]"
     ]
    },
    {
     "name": "stdout",
     "output_type": "stream",
     "text": [
      "경상북도\n",
      "80 /home/addinedu/Project_ws/eda-repo-2/Boxoffice/output/KOBIS_일별_박스오피스_2025-10-22 (3).xls, "
     ]
    },
    {
     "name": "stderr",
     "output_type": "stream",
     "text": [
      " 48%|████▊     | 82/170 [00:15<00:19,  4.55it/s]"
     ]
    },
    {
     "name": "stdout",
     "output_type": "stream",
     "text": [
      "충청북도\n",
      "81 /home/addinedu/Project_ws/eda-repo-2/Boxoffice/output/KOBIS_일별_박스오피스_2025-10-22 - 2025-10-22T192648.584.xls, 대구시\n",
      "82 /home/addinedu/Project_ws/eda-repo-2/Boxoffice/output/KOBIS_일별_박스오피스_2025-10-22 (55).xls, "
     ]
    },
    {
     "name": "stderr",
     "output_type": "stream",
     "text": [
      " 49%|████▉     | 84/170 [00:16<00:17,  4.82it/s]"
     ]
    },
    {
     "name": "stdout",
     "output_type": "stream",
     "text": [
      "충청남도\n",
      "83 /home/addinedu/Project_ws/eda-repo-2/Boxoffice/output/KOBIS_일별_박스오피스_2025-10-22 (8).xls, 전라남도\n",
      "84 /home/addinedu/Project_ws/eda-repo-2/Boxoffice/output/KOBIS_일별_박스오피스_2025-10-22 (94).xls, 제주도\n"
     ]
    },
    {
     "name": "stderr",
     "output_type": "stream",
     "text": [
      " 51%|█████     | 86/170 [00:16<00:13,  6.27it/s]"
     ]
    },
    {
     "name": "stdout",
     "output_type": "stream",
     "text": [
      "85 /home/addinedu/Project_ws/eda-repo-2/Boxoffice/output/KOBIS_일별_박스오피스_2025-10-22 (64).xls, 울산시\n",
      "86 /home/addinedu/Project_ws/eda-repo-2/Boxoffice/output/KOBIS_일별_박스오피스_2025-10-22 - 2025-10-22T192531.441.xls, 세종시\n",
      "87 /home/addinedu/Project_ws/eda-repo-2/Boxoffice/output/KOBIS_일별_박스오피스_2025-10-22 (98).xls, "
     ]
    },
    {
     "name": "stderr",
     "output_type": "stream",
     "text": [
      " 52%|█████▏    | 89/170 [00:16<00:12,  6.29it/s]"
     ]
    },
    {
     "name": "stdout",
     "output_type": "stream",
     "text": [
      "울산시\n",
      "88 /home/addinedu/Project_ws/eda-repo-2/Boxoffice/output/KOBIS_일별_박스오피스_2025-10-22 (57).xls, 경상남도\n",
      "89 /home/addinedu/Project_ws/eda-repo-2/Boxoffice/output/KOBIS_일별_박스오피스_2025-10-22 - 2025-10-22T192943.468.xls, "
     ]
    },
    {
     "name": "stderr",
     "output_type": "stream",
     "text": [
      " 54%|█████▎    | 91/170 [00:17<00:11,  6.81it/s]"
     ]
    },
    {
     "name": "stdout",
     "output_type": "stream",
     "text": [
      "광주시\n",
      "90 /home/addinedu/Project_ws/eda-repo-2/Boxoffice/output/KOBIS_일별_박스오피스_2025-10-22 (89).xls, 충청남도\n",
      "91 /home/addinedu/Project_ws/eda-repo-2/Boxoffice/output/KOBIS_일별_박스오피스_2025-10-22 - 2025-10-22T193101.313.xls, "
     ]
    },
    {
     "name": "stderr",
     "output_type": "stream",
     "text": [
      " 55%|█████▍    | 93/170 [00:17<00:13,  5.88it/s]"
     ]
    },
    {
     "name": "stdout",
     "output_type": "stream",
     "text": [
      "부산시\n",
      "92 /home/addinedu/Project_ws/eda-repo-2/Boxoffice/output/KOBIS_일별_박스오피스_2025-10-22 (44).xls, 부산시\n",
      "93 /home/addinedu/Project_ws/eda-repo-2/Boxoffice/output/KOBIS_일별_박스오피스_2025-10-22 (6).xls, "
     ]
    },
    {
     "name": "stderr",
     "output_type": "stream",
     "text": [
      " 55%|█████▌    | 94/170 [00:17<00:11,  6.54it/s]"
     ]
    },
    {
     "name": "stdout",
     "output_type": "stream",
     "text": [
      "경상남도\n",
      "94 /home/addinedu/Project_ws/eda-repo-2/Boxoffice/output/KOBIS_일별_박스오피스_2025-10-22 (70).xls, "
     ]
    },
    {
     "name": "stderr",
     "output_type": "stream",
     "text": [
      " 56%|█████▋    | 96/170 [00:17<00:11,  6.40it/s]"
     ]
    },
    {
     "name": "stdout",
     "output_type": "stream",
     "text": [
      "강원도\n",
      "95 /home/addinedu/Project_ws/eda-repo-2/Boxoffice/output/KOBIS_일별_박스오피스_2025-10-22 - 2025-10-22T192611.092.xls, 경상북도\n",
      "96 /home/addinedu/Project_ws/eda-repo-2/Boxoffice/output/KOBIS_일별_박스오피스_2025-10-22 (9).xls, 제주도\n"
     ]
    },
    {
     "name": "stderr",
     "output_type": "stream",
     "text": [
      " 58%|█████▊    | 98/170 [00:18<00:09,  7.57it/s]"
     ]
    },
    {
     "name": "stdout",
     "output_type": "stream",
     "text": [
      "97 /home/addinedu/Project_ws/eda-repo-2/Boxoffice/output/KOBIS_일별_박스오피스_2025-10-22 (74).xls, 경상남도\n",
      "98 /home/addinedu/Project_ws/eda-repo-2/Boxoffice/output/KOBIS_일별_박스오피스_2025-10-22 (69).xls, "
     ]
    },
    {
     "name": "stderr",
     "output_type": "stream",
     "text": [
      " 59%|█████▉    | 100/170 [00:18<00:10,  6.44it/s]"
     ]
    },
    {
     "name": "stdout",
     "output_type": "stream",
     "text": [
      "경기도\n",
      "99 /home/addinedu/Project_ws/eda-repo-2/Boxoffice/output/KOBIS_일별_박스오피스_2025-10-22 - 2025-10-22T192701.368.xls, 울산시\n",
      "100 /home/addinedu/Project_ws/eda-repo-2/Boxoffice/output/KOBIS_일별_박스오피스_2025-10-22 - 2025-10-22T192352.521.xls, "
     ]
    },
    {
     "name": "stderr",
     "output_type": "stream",
     "text": [
      " 59%|█████▉    | 101/170 [00:18<00:12,  5.52it/s]"
     ]
    },
    {
     "name": "stdout",
     "output_type": "stream",
     "text": [
      "서울시\n",
      "101 /home/addinedu/Project_ws/eda-repo-2/Boxoffice/output/KOBIS_일별_박스오피스_2025-10-22 (20).xls, "
     ]
    },
    {
     "name": "stderr",
     "output_type": "stream",
     "text": [
      " 61%|██████    | 103/170 [00:19<00:12,  5.42it/s]"
     ]
    },
    {
     "name": "stdout",
     "output_type": "stream",
     "text": [
      "충청북도\n",
      "102 /home/addinedu/Project_ws/eda-repo-2/Boxoffice/output/KOBIS_일별_박스오피스_2025-10-22 - 2025-10-22T192841.295.xls, 대구시\n",
      "103 /home/addinedu/Project_ws/eda-repo-2/Boxoffice/output/KOBIS_일별_박스오피스_2025-10-22 - 2025-10-22T192507.627.xls, "
     ]
    },
    {
     "name": "stderr",
     "output_type": "stream",
     "text": [
      " 61%|██████    | 104/170 [00:19<00:11,  5.95it/s]"
     ]
    },
    {
     "name": "stdout",
     "output_type": "stream",
     "text": [
      "대전시\n",
      "104 /home/addinedu/Project_ws/eda-repo-2/Boxoffice/output/KOBIS_일별_박스오피스_2025-10-22 - 2025-10-22T192429.709.xls, "
     ]
    },
    {
     "name": "stderr",
     "output_type": "stream",
     "text": [
      " 62%|██████▏   | 105/170 [00:19<00:12,  5.19it/s]"
     ]
    },
    {
     "name": "stdout",
     "output_type": "stream",
     "text": [
      "경상남도\n",
      "105 /home/addinedu/Project_ws/eda-repo-2/Boxoffice/output/KOBIS_일별_박스오피스_2025-10-22 (31).xls, "
     ]
    },
    {
     "name": "stderr",
     "output_type": "stream",
     "text": [
      " 62%|██████▏   | 106/170 [00:19<00:13,  4.69it/s]"
     ]
    },
    {
     "name": "stdout",
     "output_type": "stream",
     "text": [
      "인천시\n",
      "106 /home/addinedu/Project_ws/eda-repo-2/Boxoffice/output/KOBIS_일별_박스오피스_2025-10-22 - 2025-10-22T193009.936.xls, 강원도\n",
      "107 /home/addinedu/Project_ws/eda-repo-2/Boxoffice/output/KOBIS_일별_박스오피스_2025-10-22 - 2025-10-22T192847.610.xls, "
     ]
    },
    {
     "name": "stderr",
     "output_type": "stream",
     "text": [
      " 64%|██████▎   | 108/170 [00:20<00:11,  5.26it/s]"
     ]
    },
    {
     "name": "stdout",
     "output_type": "stream",
     "text": [
      "대전시\n",
      "108 /home/addinedu/Project_ws/eda-repo-2/Boxoffice/output/KOBIS_일별_박스오피스_2025-10-22 - 2025-10-22T193016.375.xls, 충청북도\n",
      "109 /home/addinedu/Project_ws/eda-repo-2/Boxoffice/output/KOBIS_일별_박스오피스_2025-10-22 (87).xls, "
     ]
    },
    {
     "name": "stderr",
     "output_type": "stream",
     "text": [
      " 65%|██████▍   | 110/170 [00:20<00:10,  5.86it/s]"
     ]
    },
    {
     "name": "stdout",
     "output_type": "stream",
     "text": [
      "강원도\n",
      "110 /home/addinedu/Project_ws/eda-repo-2/Boxoffice/output/KOBIS_일별_박스오피스_2025-10-22 (76).xls, 전라남도\n",
      "111 /home/addinedu/Project_ws/eda-repo-2/Boxoffice/output/KOBIS_일별_박스오피스_2025-10-22 (60).xls, "
     ]
    },
    {
     "name": "stderr",
     "output_type": "stream",
     "text": [
      " 66%|██████▋   | 113/170 [00:20<00:08,  6.55it/s]"
     ]
    },
    {
     "name": "stdout",
     "output_type": "stream",
     "text": [
      "제주도\n",
      "112 /home/addinedu/Project_ws/eda-repo-2/Boxoffice/output/KOBIS_일별_박스오피스_2025-10-22 (81).xls, 울산시\n",
      "113 /home/addinedu/Project_ws/eda-repo-2/Boxoffice/output/KOBIS_일별_박스오피스_2025-10-22 - 2025-10-22T192622.389.xls, "
     ]
    },
    {
     "name": "stderr",
     "output_type": "stream",
     "text": [
      " 68%|██████▊   | 115/170 [00:21<00:07,  6.91it/s]"
     ]
    },
    {
     "name": "stdout",
     "output_type": "stream",
     "text": [
      "전라북도\n",
      "114 /home/addinedu/Project_ws/eda-repo-2/Boxoffice/output/KOBIS_일별_박스오피스_2025-10-22 (88).xls, 충청북도\n",
      "115 /home/addinedu/Project_ws/eda-repo-2/Boxoffice/output/KOBIS_일별_박스오피스_2025-10-22 - 2025-10-22T192524.796.xls, "
     ]
    },
    {
     "name": "stderr",
     "output_type": "stream",
     "text": [
      " 68%|██████▊   | 116/170 [00:21<00:09,  5.74it/s]"
     ]
    },
    {
     "name": "stdout",
     "output_type": "stream",
     "text": [
      "광주시\n",
      "116 /home/addinedu/Project_ws/eda-repo-2/Boxoffice/output/KOBIS_일별_박스오피스_2025-10-22 - 2025-10-22T192641.783.xls, "
     ]
    },
    {
     "name": "stderr",
     "output_type": "stream",
     "text": [
      " 69%|██████▉   | 118/170 [00:21<00:09,  5.67it/s]"
     ]
    },
    {
     "name": "stdout",
     "output_type": "stream",
     "text": [
      "부산시\n",
      "117 /home/addinedu/Project_ws/eda-repo-2/Boxoffice/output/KOBIS_일별_박스오피스_2025-10-22 - 2025-10-22T192553.278.xls, 강원도\n",
      "118 /home/addinedu/Project_ws/eda-repo-2/Boxoffice/output/KOBIS_일별_박스오피스_2025-10-22 - 2025-10-22T192513.596.xls, "
     ]
    },
    {
     "name": "stderr",
     "output_type": "stream",
     "text": [
      " 71%|███████   | 120/170 [00:22<00:08,  6.05it/s]"
     ]
    },
    {
     "name": "stdout",
     "output_type": "stream",
     "text": [
      "울산시\n",
      "119 /home/addinedu/Project_ws/eda-repo-2/Boxoffice/output/KOBIS_일별_박스오피스_2025-10-22 - 2025-10-22T192441.501.xls, 전라남도\n",
      "120 /home/addinedu/Project_ws/eda-repo-2/Boxoffice/output/KOBIS_일별_박스오피스_2025-10-22 - 2025-10-22T192950.505.xls, 세종시\n",
      "121 /home/addinedu/Project_ws/eda-repo-2/Boxoffice/output/KOBIS_일별_박스오피스_2025-10-22 (96).xls, "
     ]
    },
    {
     "name": "stderr",
     "output_type": "stream",
     "text": [
      " 72%|███████▏  | 122/170 [00:22<00:07,  6.73it/s]"
     ]
    },
    {
     "name": "stdout",
     "output_type": "stream",
     "text": [
      "대구시\n",
      "122 /home/addinedu/Project_ws/eda-repo-2/Boxoffice/output/KOBIS_일별_박스오피스_2025-10-22 (93).xls, "
     ]
    },
    {
     "name": "stderr",
     "output_type": "stream",
     "text": [
      " 72%|███████▏  | 123/170 [00:22<00:07,  6.06it/s]"
     ]
    },
    {
     "name": "stdout",
     "output_type": "stream",
     "text": [
      "전라남도\n",
      "123 /home/addinedu/Project_ws/eda-repo-2/Boxoffice/output/KOBIS_일별_박스오피스_2025-10-22 - 2025-10-22T193036.055.xls, 경상남도\n",
      "124 /home/addinedu/Project_ws/eda-repo-2/Boxoffice/output/KOBIS_일별_박스오피스_2025-10-22 - 2025-10-22T192405.337.xls, 강원도\n"
     ]
    },
    {
     "name": "stderr",
     "output_type": "stream",
     "text": [
      " 75%|███████▍  | 127/170 [00:22<00:05,  8.16it/s]"
     ]
    },
    {
     "name": "stdout",
     "output_type": "stream",
     "text": [
      "125 /home/addinedu/Project_ws/eda-repo-2/Boxoffice/output/KOBIS_일별_박스오피스_2025-10-22 - 2025-10-22T192816.180.xls, 전라북도\n",
      "126 /home/addinedu/Project_ws/eda-repo-2/Boxoffice/output/KOBIS_일별_박스오피스_2025-10-22 - 2025-10-22T192801.786.xls, 경상북도\n",
      "127 /home/addinedu/Project_ws/eda-repo-2/Boxoffice/output/KOBIS_일별_박스오피스_2025-10-22 (86).xls, "
     ]
    },
    {
     "name": "stderr",
     "output_type": "stream",
     "text": [
      " 76%|███████▌  | 129/170 [00:23<00:06,  6.20it/s]"
     ]
    },
    {
     "name": "stdout",
     "output_type": "stream",
     "text": [
      "경기도\n",
      "128 /home/addinedu/Project_ws/eda-repo-2/Boxoffice/output/KOBIS_일별_박스오피스_2025-10-22 - 2025-10-22T192558.427.xls, 충청북도\n",
      "129 /home/addinedu/Project_ws/eda-repo-2/Boxoffice/output/KOBIS_일별_박스오피스_2025-10-22 (38).xls, "
     ]
    },
    {
     "name": "stderr",
     "output_type": "stream",
     "text": [
      " 76%|███████▋  | 130/170 [00:23<00:05,  6.79it/s]"
     ]
    },
    {
     "name": "stdout",
     "output_type": "stream",
     "text": [
      "충청남도\n",
      "130 /home/addinedu/Project_ws/eda-repo-2/Boxoffice/output/KOBIS_일별_박스오피스_2025-10-22 - 2025-10-22T192616.517.xls, "
     ]
    },
    {
     "name": "stderr",
     "output_type": "stream",
     "text": [
      " 78%|███████▊  | 132/170 [00:23<00:06,  6.03it/s]"
     ]
    },
    {
     "name": "stdout",
     "output_type": "stream",
     "text": [
      "경상남도\n",
      "131 /home/addinedu/Project_ws/eda-repo-2/Boxoffice/output/KOBIS_일별_박스오피스_2025-10-22 - 2025-10-22T193127.519.xls, 인천시\n",
      "132 /home/addinedu/Project_ws/eda-repo-2/Boxoffice/output/KOBIS_일별_박스오피스_2025-10-22 - 2025-10-22T192809.205.xls, "
     ]
    },
    {
     "name": "stderr",
     "output_type": "stream",
     "text": [
      " 78%|███████▊  | 133/170 [00:24<00:05,  6.72it/s]"
     ]
    },
    {
     "name": "stdout",
     "output_type": "stream",
     "text": [
      "경상남도\n",
      "133 /home/addinedu/Project_ws/eda-repo-2/Boxoffice/output/KOBIS_일별_박스오피스_2025-10-22 - 2025-10-22T192748.213.xls, 충청북도\n",
      "134 /home/addinedu/Project_ws/eda-repo-2/Boxoffice/output/KOBIS_일별_박스오피스_2025-10-22 - 2025-10-22T192735.217.xls, "
     ]
    },
    {
     "name": "stderr",
     "output_type": "stream",
     "text": [
      " 79%|███████▉  | 135/170 [00:24<00:05,  6.13it/s]"
     ]
    },
    {
     "name": "stdout",
     "output_type": "stream",
     "text": [
      "경기도\n",
      "135 /home/addinedu/Project_ws/eda-repo-2/Boxoffice/output/KOBIS_일별_박스오피스_2025-10-22 - 2025-10-22T192448.520.xls, 제주도\n",
      "136 /home/addinedu/Project_ws/eda-repo-2/Boxoffice/output/KOBIS_일별_박스오피스_2025-10-22 - 2025-10-22T193022.467.xls, 충청남도\n"
     ]
    },
    {
     "name": "stderr",
     "output_type": "stream",
     "text": [
      " 81%|████████  | 138/170 [00:24<00:04,  7.02it/s]"
     ]
    },
    {
     "name": "stdout",
     "output_type": "stream",
     "text": [
      "137 /home/addinedu/Project_ws/eda-repo-2/Boxoffice/output/KOBIS_일별_박스오피스_2025-10-22 (82).xls, 인천시\n",
      "138 /home/addinedu/Project_ws/eda-repo-2/Boxoffice/output/KOBIS_일별_박스오피스_2025-10-22 - 2025-10-22T192359.193.xls, "
     ]
    },
    {
     "name": "stderr",
     "output_type": "stream",
     "text": [
      " 82%|████████▏ | 139/170 [00:25<00:05,  5.31it/s]"
     ]
    },
    {
     "name": "stdout",
     "output_type": "stream",
     "text": [
      "경기도\n",
      "139 /home/addinedu/Project_ws/eda-repo-2/Boxoffice/output/KOBIS_일별_박스오피스_2025-10-22 (85).xls, "
     ]
    },
    {
     "name": "stderr",
     "output_type": "stream",
     "text": [
      " 82%|████████▏ | 140/170 [00:25<00:08,  3.52it/s]"
     ]
    },
    {
     "name": "stdout",
     "output_type": "stream",
     "text": [
      "서울시\n",
      "140 /home/addinedu/Project_ws/eda-repo-2/Boxoffice/output/KOBIS_일별_박스오피스_2025-10-22 (27).xls, "
     ]
    },
    {
     "name": "stderr",
     "output_type": "stream",
     "text": [
      " 83%|████████▎ | 141/170 [00:26<00:09,  3.15it/s]"
     ]
    },
    {
     "name": "stdout",
     "output_type": "stream",
     "text": [
      "부산시\n",
      "141 /home/addinedu/Project_ws/eda-repo-2/Boxoffice/output/KOBIS_일별_박스오피스_2025-10-22 - 2025-10-22T193139.788.xls, 세종시\n",
      "142 /home/addinedu/Project_ws/eda-repo-2/Boxoffice/output/KOBIS_일별_박스오피스_2025-10-22 (35).xls, "
     ]
    },
    {
     "name": "stderr",
     "output_type": "stream",
     "text": [
      " 85%|████████▍ | 144/170 [00:26<00:05,  4.77it/s]"
     ]
    },
    {
     "name": "stdout",
     "output_type": "stream",
     "text": [
      "경기도\n",
      "143 /home/addinedu/Project_ws/eda-repo-2/Boxoffice/output/KOBIS_일별_박스오피스_2025-10-22 (41).xls, 전라북도\n",
      "144 /home/addinedu/Project_ws/eda-repo-2/Boxoffice/output/KOBIS_일별_박스오피스_2025-10-22 (46).xls, "
     ]
    },
    {
     "name": "stderr",
     "output_type": "stream",
     "text": [
      " 86%|████████▌ | 146/170 [00:26<00:05,  4.80it/s]"
     ]
    },
    {
     "name": "stdout",
     "output_type": "stream",
     "text": [
      "대전시\n",
      "145 /home/addinedu/Project_ws/eda-repo-2/Boxoffice/output/KOBIS_일별_박스오피스_2025-10-22 (90).xls, 경상북도\n",
      "146 /home/addinedu/Project_ws/eda-repo-2/Boxoffice/output/KOBIS_일별_박스오피스_2025-10-22 (16).xls, "
     ]
    },
    {
     "name": "stderr",
     "output_type": "stream",
     "text": [
      " 87%|████████▋ | 148/170 [00:27<00:03,  6.42it/s]"
     ]
    },
    {
     "name": "stdout",
     "output_type": "stream",
     "text": [
      "세종시\n",
      "147 /home/addinedu/Project_ws/eda-repo-2/Boxoffice/output/KOBIS_일별_박스오피스_2025-10-22 (72).xls, 충청남도\n",
      "148 /home/addinedu/Project_ws/eda-repo-2/Boxoffice/output/KOBIS_일별_박스오피스_2025-10-22 - 2025-10-22T193055.564.xls, 제주도\n",
      "149 /home/addinedu/Project_ws/eda-repo-2/Boxoffice/output/KOBIS_일별_박스오피스_2025-10-22 - 2025-10-22T192720.205.xls, "
     ]
    },
    {
     "name": "stderr",
     "output_type": "stream",
     "text": [
      " 89%|████████▉ | 151/170 [00:27<00:02,  7.02it/s]"
     ]
    },
    {
     "name": "stdout",
     "output_type": "stream",
     "text": [
      "세종시\n",
      "150 /home/addinedu/Project_ws/eda-repo-2/Boxoffice/output/KOBIS_일별_박스오피스_2025-10-22 - 2025-10-22T192741.022.xls, 강원도\n",
      "151 /home/addinedu/Project_ws/eda-repo-2/Boxoffice/output/KOBIS_일별_박스오피스_2025-10-22 (52).xls, "
     ]
    },
    {
     "name": "stderr",
     "output_type": "stream",
     "text": [
      " 89%|████████▉ | 152/170 [00:27<00:03,  5.70it/s]"
     ]
    },
    {
     "name": "stdout",
     "output_type": "stream",
     "text": [
      "경기도\n",
      "152 /home/addinedu/Project_ws/eda-repo-2/Boxoffice/output/KOBIS_일별_박스오피스_2025-10-22 - 2025-10-22T193004.378.xls, "
     ]
    },
    {
     "name": "stderr",
     "output_type": "stream",
     "text": [
      " 91%|█████████ | 154/170 [00:28<00:02,  5.62it/s]"
     ]
    },
    {
     "name": "stdout",
     "output_type": "stream",
     "text": [
      "경기도\n",
      "153 /home/addinedu/Project_ws/eda-repo-2/Boxoffice/output/KOBIS_일별_박스오피스_2025-10-22 - 2025-10-22T193114.672.xls, 대전시\n",
      "154 /home/addinedu/Project_ws/eda-repo-2/Boxoffice/output/KOBIS_일별_박스오피스_2025-10-22 (5).xls, "
     ]
    },
    {
     "name": "stderr",
     "output_type": "stream",
     "text": [
      " 92%|█████████▏| 156/170 [00:28<00:02,  6.60it/s]"
     ]
    },
    {
     "name": "stdout",
     "output_type": "stream",
     "text": [
      "경상북도\n",
      "155 /home/addinedu/Project_ws/eda-repo-2/Boxoffice/output/KOBIS_일별_박스오피스_2025-10-22 - 2025-10-22T193132.681.xls, 광주시\n",
      "156 /home/addinedu/Project_ws/eda-repo-2/Boxoffice/output/KOBIS_일별_박스오피스_2025-10-22 - 2025-10-22T192827.530.xls, "
     ]
    },
    {
     "name": "stderr",
     "output_type": "stream",
     "text": [
      " 93%|█████████▎| 158/170 [00:28<00:01,  6.58it/s]"
     ]
    },
    {
     "name": "stdout",
     "output_type": "stream",
     "text": [
      "제주도\n",
      "157 /home/addinedu/Project_ws/eda-repo-2/Boxoffice/output/KOBIS_일별_박스오피스_2025-10-22 (42).xls, 전라남도\n",
      "158 /home/addinedu/Project_ws/eda-repo-2/Boxoffice/output/KOBIS_일별_박스오피스_2025-10-22 - 2025-10-22T192714.213.xls, "
     ]
    },
    {
     "name": "stderr",
     "output_type": "stream",
     "text": [
      " 94%|█████████▎| 159/170 [00:28<00:01,  6.27it/s]"
     ]
    },
    {
     "name": "stdout",
     "output_type": "stream",
     "text": [
      "광주시\n",
      "159 /home/addinedu/Project_ws/eda-repo-2/Boxoffice/output/KOBIS_일별_박스오피스_2025-10-22 (28).xls, "
     ]
    },
    {
     "name": "stderr",
     "output_type": "stream",
     "text": [
      " 94%|█████████▍| 160/170 [00:29<00:02,  4.73it/s]"
     ]
    },
    {
     "name": "stdout",
     "output_type": "stream",
     "text": [
      "대구시\n",
      "160 /home/addinedu/Project_ws/eda-repo-2/Boxoffice/output/KOBIS_일별_박스오피스_2025-10-22 (43).xls, 제주도\n",
      "161 /home/addinedu/Project_ws/eda-repo-2/Boxoffice/output/KOBIS_일별_박스오피스_2025-10-22 (12).xls, "
     ]
    },
    {
     "name": "stderr",
     "output_type": "stream",
     "text": [
      " 96%|█████████▌| 163/170 [00:29<00:01,  6.06it/s]"
     ]
    },
    {
     "name": "stdout",
     "output_type": "stream",
     "text": [
      "대전시\n",
      "162 /home/addinedu/Project_ws/eda-repo-2/Boxoffice/output/KOBIS_일별_박스오피스_2025-10-22 - 2025-10-22T192519.036.xls, 인천시\n",
      "163 /home/addinedu/Project_ws/eda-repo-2/Boxoffice/output/KOBIS_일별_박스오피스_2025-10-22 (24).xls, "
     ]
    },
    {
     "name": "stderr",
     "output_type": "stream",
     "text": [
      " 97%|█████████▋| 165/170 [00:30<00:00,  5.57it/s]"
     ]
    },
    {
     "name": "stdout",
     "output_type": "stream",
     "text": [
      "전라북도\n",
      "164 /home/addinedu/Project_ws/eda-repo-2/Boxoffice/output/KOBIS_일별_박스오피스_2025-10-22 (73).xls, 경상북도\n",
      "165 /home/addinedu/Project_ws/eda-repo-2/Boxoffice/output/KOBIS_일별_박스오피스_2025-10-22 (50).xls, "
     ]
    },
    {
     "name": "stderr",
     "output_type": "stream",
     "text": [
      " 98%|█████████▊| 167/170 [00:30<00:00,  6.68it/s]"
     ]
    },
    {
     "name": "stdout",
     "output_type": "stream",
     "text": [
      "세종시\n",
      "166 /home/addinedu/Project_ws/eda-repo-2/Boxoffice/output/KOBIS_일별_박스오피스_2025-10-22 (45).xls, 대구시\n",
      "167 /home/addinedu/Project_ws/eda-repo-2/Boxoffice/output/KOBIS_일별_박스오피스_2025-10-22 - 2025-10-22T192822.160.xls, "
     ]
    },
    {
     "name": "stderr",
     "output_type": "stream",
     "text": [
      " 99%|█████████▉| 169/170 [00:30<00:00,  6.30it/s]"
     ]
    },
    {
     "name": "stdout",
     "output_type": "stream",
     "text": [
      "전라남도\n",
      "168 /home/addinedu/Project_ws/eda-repo-2/Boxoffice/output/KOBIS_일별_박스오피스_2025-10-22 (10).xls, 부산시\n",
      "169 /home/addinedu/Project_ws/eda-repo-2/Boxoffice/output/KOBIS_일별_박스오피스_2025-10-22 (63).xls, "
     ]
    },
    {
     "name": "stderr",
     "output_type": "stream",
     "text": [
      "100%|██████████| 170/170 [00:30<00:00,  5.52it/s]"
     ]
    },
    {
     "name": "stdout",
     "output_type": "stream",
     "text": [
      "대전시\n"
     ]
    },
    {
     "name": "stderr",
     "output_type": "stream",
     "text": [
      "\n"
     ]
    }
   ],
   "source": [
    "from bs4 import BeautifulSoup as bs\n",
    "import pandas as pd\n",
    "\n",
    "total_df = pd.DataFrame()\n",
    "\n",
    "for idx, file in enumerate(tqdm(file_list)):\n",
    "    print(idx, file, end=\", \")\n",
    "\n",
    "    with open(file, 'r') as html:\n",
    "        html_doc = html.read()\n",
    "        soup = bs(html_doc,'html.parser')\n",
    "\n",
    "        # 지역명 확인\n",
    "        search_option_str = soup.find_all('table')[0].text\n",
    "        temp_str = re.compile(\"지역:+.[가-힣]+\").search(search_option_str)\n",
    "        region_name = temp_str.group().replace('지역:','').strip()\n",
    "        \n",
    "        print(region_name)#, end=\", \")\n",
    "\n",
    "        df = get_dataframe_from_daily_excel(soup)\n",
    "        # 지역 col 추가: 모든 열에 같은 값으로\n",
    "        df['지역'] = region_name\n",
    "        \n",
    "        total_df = pd.concat([total_df, df])\n",
    "\n"
   ]
  },
  {
   "cell_type": "code",
   "execution_count": 22,
   "id": "d31330d3",
   "metadata": {},
   "outputs": [
    {
     "data": {
      "text/html": [
       "<div>\n",
       "<style scoped>\n",
       "    .dataframe tbody tr th:only-of-type {\n",
       "        vertical-align: middle;\n",
       "    }\n",
       "\n",
       "    .dataframe tbody tr th {\n",
       "        vertical-align: top;\n",
       "    }\n",
       "\n",
       "    .dataframe thead th {\n",
       "        text-align: right;\n",
       "    }\n",
       "</style>\n",
       "<table border=\"1\" class=\"dataframe\">\n",
       "  <thead>\n",
       "    <tr style=\"text-align: right;\">\n",
       "      <th></th>\n",
       "      <th>일자</th>\n",
       "      <th>영화명</th>\n",
       "      <th>개봉일</th>\n",
       "      <th>매출액</th>\n",
       "      <th>관객수</th>\n",
       "      <th>스크린수</th>\n",
       "      <th>상영횟수</th>\n",
       "      <th>대표국적</th>\n",
       "      <th>제작사</th>\n",
       "      <th>등급</th>\n",
       "      <th>장르</th>\n",
       "      <th>감독</th>\n",
       "      <th>배우</th>\n",
       "      <th>지역</th>\n",
       "    </tr>\n",
       "  </thead>\n",
       "  <tbody>\n",
       "    <tr>\n",
       "      <th>0</th>\n",
       "      <td>2025년 10월 21일</td>\n",
       "      <td>극장판 체인소 맨: 레제편</td>\n",
       "      <td>2025-09-24</td>\n",
       "      <td>83787060</td>\n",
       "      <td>7650</td>\n",
       "      <td>134</td>\n",
       "      <td>493</td>\n",
       "      <td>일본</td>\n",
       "      <td></td>\n",
       "      <td>15세이상관람가</td>\n",
       "      <td>애니메이션,액션,어드벤처</td>\n",
       "      <td></td>\n",
       "      <td></td>\n",
       "      <td>서울시</td>\n",
       "    </tr>\n",
       "    <tr>\n",
       "      <th>1</th>\n",
       "      <td>2025년 10월 21일</td>\n",
       "      <td>원 배틀 애프터 어나더</td>\n",
       "      <td>2025-10-01</td>\n",
       "      <td>20112040</td>\n",
       "      <td>1931</td>\n",
       "      <td>113</td>\n",
       "      <td>217</td>\n",
       "      <td>미국</td>\n",
       "      <td></td>\n",
       "      <td>15세이상관람가</td>\n",
       "      <td>범죄,액션</td>\n",
       "      <td>폴 토마스 앤더슨</td>\n",
       "      <td>레오나르도 디카프리오,숀 펜,베니시오 델 토로,레지나 홀,테야나 테일러,체이스 인피니티</td>\n",
       "      <td>서울시</td>\n",
       "    </tr>\n",
       "    <tr>\n",
       "      <th>2</th>\n",
       "      <td>2025년 10월 21일</td>\n",
       "      <td>극장판 귀멸의 칼날: 무한성편</td>\n",
       "      <td>2025-08-22</td>\n",
       "      <td>14885500</td>\n",
       "      <td>1405</td>\n",
       "      <td>78</td>\n",
       "      <td>129</td>\n",
       "      <td>일본</td>\n",
       "      <td></td>\n",
       "      <td>15세이상관람가</td>\n",
       "      <td>애니메이션</td>\n",
       "      <td>소토자키 하루오</td>\n",
       "      <td>하나에 나츠키,키토 아카리,시모노 히로,마츠오카 요시츠구,오카모토 노부히코,사쿠라이...</td>\n",
       "      <td>서울시</td>\n",
       "    </tr>\n",
       "    <tr>\n",
       "      <th>3</th>\n",
       "      <td>2025년 10월 21일</td>\n",
       "      <td>극장판 주술회전: 회옥·옥절</td>\n",
       "      <td>2025-10-16</td>\n",
       "      <td>13826100</td>\n",
       "      <td>1320</td>\n",
       "      <td>99</td>\n",
       "      <td>209</td>\n",
       "      <td>일본</td>\n",
       "      <td></td>\n",
       "      <td>15세이상관람가</td>\n",
       "      <td>애니메이션</td>\n",
       "      <td>고쇼조노 쇼타</td>\n",
       "      <td></td>\n",
       "      <td>서울시</td>\n",
       "    </tr>\n",
       "    <tr>\n",
       "      <th>4</th>\n",
       "      <td>2025년 10월 21일</td>\n",
       "      <td>웨폰</td>\n",
       "      <td>2025-10-15</td>\n",
       "      <td>12750600</td>\n",
       "      <td>1286</td>\n",
       "      <td>85</td>\n",
       "      <td>152</td>\n",
       "      <td>미국</td>\n",
       "      <td></td>\n",
       "      <td>청소년관람불가</td>\n",
       "      <td>공포(호러),미스터리</td>\n",
       "      <td>잭 크레거</td>\n",
       "      <td>조슈 브롤린,줄리아 가너,올든 에런라이크,오스틴 아브람스,크리스토퍼 캐리,베네딕트 ...</td>\n",
       "      <td>서울시</td>\n",
       "    </tr>\n",
       "    <tr>\n",
       "      <th>...</th>\n",
       "      <td>...</td>\n",
       "      <td>...</td>\n",
       "      <td>...</td>\n",
       "      <td>...</td>\n",
       "      <td>...</td>\n",
       "      <td>...</td>\n",
       "      <td>...</td>\n",
       "      <td>...</td>\n",
       "      <td>...</td>\n",
       "      <td>...</td>\n",
       "      <td>...</td>\n",
       "      <td>...</td>\n",
       "      <td>...</td>\n",
       "      <td>...</td>\n",
       "    </tr>\n",
       "    <tr>\n",
       "      <th>162</th>\n",
       "      <td>2025년 09월 26일</td>\n",
       "      <td>결혼 피로연</td>\n",
       "      <td>2025-09-24</td>\n",
       "      <td>21000</td>\n",
       "      <td>3</td>\n",
       "      <td>1</td>\n",
       "      <td>2</td>\n",
       "      <td>미국</td>\n",
       "      <td></td>\n",
       "      <td>15세이상관람가</td>\n",
       "      <td>코미디,멜로/로맨스</td>\n",
       "      <td>앤드류 안</td>\n",
       "      <td>윤여정,한기찬,보웬 양,릴리 글래드스톤,켈리 마리 트란,조안 첸</td>\n",
       "      <td>대전시</td>\n",
       "    </tr>\n",
       "    <tr>\n",
       "      <th>163</th>\n",
       "      <td>2025년 09월 26일</td>\n",
       "      <td>베르메르: 위대한 전시회</td>\n",
       "      <td>2025-09-17</td>\n",
       "      <td>8000</td>\n",
       "      <td>1</td>\n",
       "      <td>1</td>\n",
       "      <td>1</td>\n",
       "      <td>영국</td>\n",
       "      <td></td>\n",
       "      <td>전체관람가</td>\n",
       "      <td>다큐멘터리</td>\n",
       "      <td>데이비드 비커스태프</td>\n",
       "      <td></td>\n",
       "      <td>대전시</td>\n",
       "    </tr>\n",
       "    <tr>\n",
       "      <th>164</th>\n",
       "      <td>2025년 09월 26일</td>\n",
       "      <td>부재</td>\n",
       "      <td>2025-08-27</td>\n",
       "      <td>8000</td>\n",
       "      <td>1</td>\n",
       "      <td>1</td>\n",
       "      <td>1</td>\n",
       "      <td>중국</td>\n",
       "      <td></td>\n",
       "      <td>12세이상관람가</td>\n",
       "      <td>드라마</td>\n",
       "      <td></td>\n",
       "      <td></td>\n",
       "      <td>대전시</td>\n",
       "    </tr>\n",
       "    <tr>\n",
       "      <th>165</th>\n",
       "      <td>2025년 09월 26일</td>\n",
       "      <td>내 말 좀 들어줘</td>\n",
       "      <td>2025-08-20</td>\n",
       "      <td>10000</td>\n",
       "      <td>1</td>\n",
       "      <td>1</td>\n",
       "      <td>1</td>\n",
       "      <td>영국</td>\n",
       "      <td></td>\n",
       "      <td>12세이상관람가</td>\n",
       "      <td>드라마</td>\n",
       "      <td>마이크 리</td>\n",
       "      <td>마리안 장 밥티스트</td>\n",
       "      <td>대전시</td>\n",
       "    </tr>\n",
       "    <tr>\n",
       "      <th>166</th>\n",
       "      <td>2025년 09월 26일</td>\n",
       "      <td>투게더</td>\n",
       "      <td>2025-09-03</td>\n",
       "      <td>14000</td>\n",
       "      <td>1</td>\n",
       "      <td>1</td>\n",
       "      <td>1</td>\n",
       "      <td>미국</td>\n",
       "      <td></td>\n",
       "      <td>15세이상관람가</td>\n",
       "      <td>공포(호러),멜로/로맨스</td>\n",
       "      <td>마이클 쉥크스</td>\n",
       "      <td>데이브 프랭코,알리슨 브리</td>\n",
       "      <td>대전시</td>\n",
       "    </tr>\n",
       "  </tbody>\n",
       "</table>\n",
       "<p>21216 rows × 14 columns</p>\n",
       "</div>"
      ],
      "text/plain": [
       "                일자               영화명         개봉일       매출액   관객수  스크린수  상영횟수  \\\n",
       "0    2025년 10월 21일    극장판 체인소 맨: 레제편  2025-09-24  83787060  7650   134   493   \n",
       "1    2025년 10월 21일      원 배틀 애프터 어나더  2025-10-01  20112040  1931   113   217   \n",
       "2    2025년 10월 21일  극장판 귀멸의 칼날: 무한성편  2025-08-22  14885500  1405    78   129   \n",
       "3    2025년 10월 21일   극장판 주술회전: 회옥·옥절  2025-10-16  13826100  1320    99   209   \n",
       "4    2025년 10월 21일                웨폰  2025-10-15  12750600  1286    85   152   \n",
       "..             ...               ...         ...       ...   ...   ...   ...   \n",
       "162  2025년 09월 26일            결혼 피로연  2025-09-24     21000     3     1     2   \n",
       "163  2025년 09월 26일     베르메르: 위대한 전시회  2025-09-17      8000     1     1     1   \n",
       "164  2025년 09월 26일                부재  2025-08-27      8000     1     1     1   \n",
       "165  2025년 09월 26일         내 말 좀 들어줘  2025-08-20     10000     1     1     1   \n",
       "166  2025년 09월 26일               투게더  2025-09-03     14000     1     1     1   \n",
       "\n",
       "    대표국적 제작사        등급             장르          감독  \\\n",
       "0     일본      15세이상관람가  애니메이션,액션,어드벤처               \n",
       "1     미국      15세이상관람가          범죄,액션   폴 토마스 앤더슨   \n",
       "2     일본      15세이상관람가          애니메이션    소토자키 하루오   \n",
       "3     일본      15세이상관람가          애니메이션     고쇼조노 쇼타   \n",
       "4     미국       청소년관람불가    공포(호러),미스터리       잭 크레거   \n",
       "..   ...  ..       ...            ...         ...   \n",
       "162   미국      15세이상관람가     코미디,멜로/로맨스       앤드류 안   \n",
       "163   영국         전체관람가          다큐멘터리  데이비드 비커스태프   \n",
       "164   중국      12세이상관람가            드라마               \n",
       "165   영국      12세이상관람가            드라마       마이크 리   \n",
       "166   미국      15세이상관람가  공포(호러),멜로/로맨스     마이클 쉥크스   \n",
       "\n",
       "                                                    배우   지역  \n",
       "0                                                       서울시  \n",
       "1     레오나르도 디카프리오,숀 펜,베니시오 델 토로,레지나 홀,테야나 테일러,체이스 인피니티  서울시  \n",
       "2    하나에 나츠키,키토 아카리,시모노 히로,마츠오카 요시츠구,오카모토 노부히코,사쿠라이...  서울시  \n",
       "3                                                       서울시  \n",
       "4    조슈 브롤린,줄리아 가너,올든 에런라이크,오스틴 아브람스,크리스토퍼 캐리,베네딕트 ...  서울시  \n",
       "..                                                 ...  ...  \n",
       "162                윤여정,한기찬,보웬 양,릴리 글래드스톤,켈리 마리 트란,조안 첸  대전시  \n",
       "163                                                     대전시  \n",
       "164                                                     대전시  \n",
       "165                                         마리안 장 밥티스트  대전시  \n",
       "166                                     데이브 프랭코,알리슨 브리  대전시  \n",
       "\n",
       "[21216 rows x 14 columns]"
      ]
     },
     "execution_count": 22,
     "metadata": {},
     "output_type": "execute_result"
    }
   ],
   "source": [
    "total_df"
   ]
  },
  {
   "cell_type": "code",
   "execution_count": 23,
   "id": "838fad5a",
   "metadata": {},
   "outputs": [
    {
     "name": "stdout",
     "output_type": "stream",
     "text": [
      "<class 'pandas.core.frame.DataFrame'>\n",
      "Index: 21216 entries, 0 to 166\n",
      "Data columns (total 14 columns):\n",
      " #   Column  Non-Null Count  Dtype \n",
      "---  ------  --------------  ----- \n",
      " 0   일자      21216 non-null  object\n",
      " 1   영화명     21216 non-null  object\n",
      " 2   개봉일     21216 non-null  object\n",
      " 3   매출액     21216 non-null  int64 \n",
      " 4   관객수     21216 non-null  int64 \n",
      " 5   스크린수    21216 non-null  int64 \n",
      " 6   상영횟수    21216 non-null  int64 \n",
      " 7   대표국적    21216 non-null  object\n",
      " 8   제작사     21216 non-null  object\n",
      " 9   등급      21216 non-null  object\n",
      " 10  장르      21216 non-null  object\n",
      " 11  감독      21216 non-null  object\n",
      " 12  배우      21216 non-null  object\n",
      " 13  지역      21216 non-null  object\n",
      "dtypes: int64(4), object(10)\n",
      "memory usage: 2.4+ MB\n"
     ]
    }
   ],
   "source": [
    "total_df.info()"
   ]
  },
  {
   "cell_type": "markdown",
   "id": "350ec479",
   "metadata": {},
   "source": [
    "## 데이터 전처리\n",
    "1. datetime: 일자(관객이 영화본날), 개봉일\n",
    " - 일자 형식  : 2025년 10월 21일\n",
    " - 개봉일 형식 : 2025-09-24\n",
    "2. int : 매출액, 관객수, 스크린수, 상영횟수\n",
    "3. object(문자열) : 그외 컬럼"
   ]
  },
  {
   "cell_type": "code",
   "execution_count": 24,
   "id": "c776ec32",
   "metadata": {},
   "outputs": [
    {
     "data": {
      "text/plain": [
       "datetime.datetime(2024, 1, 20, 0, 0)"
      ]
     },
     "execution_count": 24,
     "metadata": {},
     "output_type": "execute_result"
    }
   ],
   "source": [
    "from datetime import datetime\n",
    "\n",
    "date = datetime.strptime('2024-01-20', '%Y-%m-%d')\n",
    "date\n"
   ]
  },
  {
   "cell_type": "code",
   "execution_count": 25,
   "id": "4d7ede8d",
   "metadata": {},
   "outputs": [
    {
     "data": {
      "text/plain": [
       "0     2025-09-24\n",
       "1     2025-10-01\n",
       "2     2025-08-22\n",
       "3     2025-10-16\n",
       "4     2025-10-15\n",
       "         ...    \n",
       "162   2025-09-24\n",
       "163   2025-09-17\n",
       "164   2025-08-27\n",
       "165   2025-08-20\n",
       "166   2025-09-03\n",
       "Name: 개봉일, Length: 21216, dtype: datetime64[ns]"
      ]
     },
     "execution_count": 25,
     "metadata": {},
     "output_type": "execute_result"
    }
   ],
   "source": [
    "import pandas as pd\n",
    "\n",
    "# 형식: \"%Y-%m-%d\"\n",
    "total_df['개봉일'] = pd.to_datetime(total_df['개봉일'])\n",
    "total_df['개봉일']"
   ]
  },
  {
   "cell_type": "code",
   "execution_count": 26,
   "id": "62e9e300",
   "metadata": {},
   "outputs": [
    {
     "data": {
      "text/plain": [
       "0     2025-10-21\n",
       "1     2025-10-21\n",
       "2     2025-10-21\n",
       "3     2025-10-21\n",
       "4     2025-10-21\n",
       "         ...    \n",
       "162   2025-09-26\n",
       "163   2025-09-26\n",
       "164   2025-09-26\n",
       "165   2025-09-26\n",
       "166   2025-09-26\n",
       "Name: 일자, Length: 21216, dtype: datetime64[ns]"
      ]
     },
     "execution_count": 26,
     "metadata": {},
     "output_type": "execute_result"
    }
   ],
   "source": [
    "import pandas as pd\n",
    "\n",
    "'''\n",
    "# 형식: \"%Y년 %m월 %d일\"\n",
    "# total_df['일자'] = pd.to_datetime(total_df['일자'])\n",
    "# total_df['일자']\n",
    "\n",
    "'raise' (기본값)\t변환할 수 없는 값이 있으면 ValueError와 같은 오류를 발생시킵니다.\n",
    "'coerce'\t변환할 수 없는 값을 NaT (Not a Time) 값으로 바꿉니다.\n",
    "'ignore'\t변환할 수 없는 값이 있으면 해당 값을 그대로 반환합니다.\n",
    "'''\n",
    "\n",
    "total_df['일자'] = pd.to_datetime(total_df['일자'], format=\"%Y년 %m월 %d일\", errors='coerce')\n",
    "total_df['일자']"
   ]
  },
  {
   "cell_type": "code",
   "execution_count": 27,
   "id": "614be21f",
   "metadata": {},
   "outputs": [
    {
     "data": {
      "text/plain": [
       "<DatetimeArray>\n",
       "['2025-10-21 00:00:00', '2025-10-20 00:00:00', '2025-10-19 00:00:00',\n",
       " '2025-10-18 00:00:00', '2025-10-17 00:00:00', '2025-10-16 00:00:00',\n",
       " '2025-10-15 00:00:00', '2025-10-14 00:00:00', '2025-10-13 00:00:00',\n",
       " '2025-10-12 00:00:00', '2025-10-11 00:00:00', '2025-10-10 00:00:00',\n",
       " '2024-09-19 00:00:00', '2024-09-18 00:00:00', '2024-09-17 00:00:00',\n",
       " '2024-09-16 00:00:00', '2024-09-15 00:00:00', '2024-09-14 00:00:00',\n",
       " '2024-09-13 00:00:00', '2025-10-09 00:00:00', '2025-10-08 00:00:00',\n",
       " '2025-10-07 00:00:00', '2025-10-06 00:00:00', '2025-10-05 00:00:00',\n",
       " '2025-10-04 00:00:00', '2025-10-03 00:00:00', '2025-10-02 00:00:00',\n",
       " '2025-10-01 00:00:00', '2025-09-30 00:00:00', '2025-09-29 00:00:00',\n",
       " '2025-09-28 00:00:00', '2025-09-27 00:00:00', '2025-09-26 00:00:00']\n",
       "Length: 33, dtype: datetime64[ns]"
      ]
     },
     "execution_count": 27,
     "metadata": {},
     "output_type": "execute_result"
    }
   ],
   "source": [
    "total_df['일자'].unique()"
   ]
  },
  {
   "cell_type": "markdown",
   "id": "8a7fe509",
   "metadata": {},
   "source": [
    "### 날짜가 뒤죽박죽이다. 정렬을 해보자."
   ]
  },
  {
   "cell_type": "code",
   "execution_count": 28,
   "id": "5809c975",
   "metadata": {},
   "outputs": [
    {
     "data": {
      "text/html": [
       "<div>\n",
       "<style scoped>\n",
       "    .dataframe tbody tr th:only-of-type {\n",
       "        vertical-align: middle;\n",
       "    }\n",
       "\n",
       "    .dataframe tbody tr th {\n",
       "        vertical-align: top;\n",
       "    }\n",
       "\n",
       "    .dataframe thead th {\n",
       "        text-align: right;\n",
       "    }\n",
       "</style>\n",
       "<table border=\"1\" class=\"dataframe\">\n",
       "  <thead>\n",
       "    <tr style=\"text-align: right;\">\n",
       "      <th></th>\n",
       "      <th>일자</th>\n",
       "      <th>영화명</th>\n",
       "      <th>개봉일</th>\n",
       "      <th>매출액</th>\n",
       "      <th>관객수</th>\n",
       "      <th>스크린수</th>\n",
       "      <th>상영횟수</th>\n",
       "      <th>대표국적</th>\n",
       "      <th>제작사</th>\n",
       "      <th>등급</th>\n",
       "      <th>장르</th>\n",
       "      <th>감독</th>\n",
       "      <th>배우</th>\n",
       "      <th>지역</th>\n",
       "    </tr>\n",
       "  </thead>\n",
       "  <tbody>\n",
       "    <tr>\n",
       "      <th>115</th>\n",
       "      <td>2024-09-13</td>\n",
       "      <td>죽고 싶지만 사랑은 하고 싶어</td>\n",
       "      <td>2024-09-04</td>\n",
       "      <td>6000</td>\n",
       "      <td>1</td>\n",
       "      <td>1</td>\n",
       "      <td>1</td>\n",
       "      <td>미국</td>\n",
       "      <td></td>\n",
       "      <td>12세이상관람가</td>\n",
       "      <td>드라마,멜로/로맨스</td>\n",
       "      <td>레이첼 램버트</td>\n",
       "      <td>데이지 리들리,데이브 메르헤예</td>\n",
       "      <td>강원도</td>\n",
       "    </tr>\n",
       "    <tr>\n",
       "      <th>116</th>\n",
       "      <td>2024-09-13</td>\n",
       "      <td>래시: 뉴 어드벤처</td>\n",
       "      <td>2024-09-12</td>\n",
       "      <td>6000</td>\n",
       "      <td>1</td>\n",
       "      <td>1</td>\n",
       "      <td>1</td>\n",
       "      <td>독일</td>\n",
       "      <td></td>\n",
       "      <td>전체관람가</td>\n",
       "      <td>어드벤처,가족,드라마</td>\n",
       "      <td></td>\n",
       "      <td>니코 마리츠카,카타리나 슈틀러</td>\n",
       "      <td>강원도</td>\n",
       "    </tr>\n",
       "    <tr>\n",
       "      <th>117</th>\n",
       "      <td>2024-09-13</td>\n",
       "      <td>극장총집편 봇치 더 록! 전편</td>\n",
       "      <td>2024-08-07</td>\n",
       "      <td>13000</td>\n",
       "      <td>1</td>\n",
       "      <td>1</td>\n",
       "      <td>1</td>\n",
       "      <td>일본</td>\n",
       "      <td></td>\n",
       "      <td>12세이상관람가</td>\n",
       "      <td>애니메이션</td>\n",
       "      <td>사이토 케이이치로</td>\n",
       "      <td>아오야마 요시노,스즈시로 사유미,미즈노 사쿠,하세가와 이쿠미</td>\n",
       "      <td>강원도</td>\n",
       "    </tr>\n",
       "    <tr>\n",
       "      <th>101</th>\n",
       "      <td>2024-09-13</td>\n",
       "      <td>늘봄가든</td>\n",
       "      <td>2024-08-21</td>\n",
       "      <td>14000</td>\n",
       "      <td>2</td>\n",
       "      <td>1</td>\n",
       "      <td>1</td>\n",
       "      <td>한국</td>\n",
       "      <td>(주)바이어스이엔티</td>\n",
       "      <td>15세이상관람가</td>\n",
       "      <td>공포(호러),스릴러</td>\n",
       "      <td>구태진</td>\n",
       "      <td>조윤희,이지오,김주령,허동원,정인겸</td>\n",
       "      <td>강원도</td>\n",
       "    </tr>\n",
       "    <tr>\n",
       "      <th>114</th>\n",
       "      <td>2024-09-13</td>\n",
       "      <td>주토피아</td>\n",
       "      <td>2016-02-17</td>\n",
       "      <td>18000</td>\n",
       "      <td>2</td>\n",
       "      <td>1</td>\n",
       "      <td>1</td>\n",
       "      <td>미국</td>\n",
       "      <td></td>\n",
       "      <td>전체관람가</td>\n",
       "      <td>애니메이션,액션,어드벤처</td>\n",
       "      <td>바이론 하워드,리치 무어</td>\n",
       "      <td>지니퍼 굿윈,제이슨 베이트먼,샤키라</td>\n",
       "      <td>강원도</td>\n",
       "    </tr>\n",
       "    <tr>\n",
       "      <th>...</th>\n",
       "      <td>...</td>\n",
       "      <td>...</td>\n",
       "      <td>...</td>\n",
       "      <td>...</td>\n",
       "      <td>...</td>\n",
       "      <td>...</td>\n",
       "      <td>...</td>\n",
       "      <td>...</td>\n",
       "      <td>...</td>\n",
       "      <td>...</td>\n",
       "      <td>...</td>\n",
       "      <td>...</td>\n",
       "      <td>...</td>\n",
       "      <td>...</td>\n",
       "    </tr>\n",
       "    <tr>\n",
       "      <th>2</th>\n",
       "      <td>2025-10-21</td>\n",
       "      <td>극장판 귀멸의 칼날: 무한성편</td>\n",
       "      <td>2025-08-22</td>\n",
       "      <td>1194360</td>\n",
       "      <td>117</td>\n",
       "      <td>16</td>\n",
       "      <td>22</td>\n",
       "      <td>일본</td>\n",
       "      <td></td>\n",
       "      <td>15세이상관람가</td>\n",
       "      <td>애니메이션</td>\n",
       "      <td>소토자키 하루오</td>\n",
       "      <td>하나에 나츠키,키토 아카리,시모노 히로,마츠오카 요시츠구,오카모토 노부히코,사쿠라이...</td>\n",
       "      <td>충청북도</td>\n",
       "    </tr>\n",
       "    <tr>\n",
       "      <th>2</th>\n",
       "      <td>2025-10-21</td>\n",
       "      <td>어쩔수가없다</td>\n",
       "      <td>2025-09-24</td>\n",
       "      <td>1828700</td>\n",
       "      <td>211</td>\n",
       "      <td>24</td>\n",
       "      <td>52</td>\n",
       "      <td>한국</td>\n",
       "      <td>모호필름,씨제이이엔엠 스튜디오스 주식회사</td>\n",
       "      <td>15세이상관람가</td>\n",
       "      <td>스릴러,코미디</td>\n",
       "      <td>박찬욱</td>\n",
       "      <td>이병헌,손예진,박희순,이성민,염혜란,차승원,유연석,이진결</td>\n",
       "      <td>충청북도</td>\n",
       "    </tr>\n",
       "    <tr>\n",
       "      <th>1</th>\n",
       "      <td>2025-10-21</td>\n",
       "      <td>연의 편지</td>\n",
       "      <td>2025-10-01</td>\n",
       "      <td>2104800</td>\n",
       "      <td>304</td>\n",
       "      <td>13</td>\n",
       "      <td>14</td>\n",
       "      <td>한국</td>\n",
       "      <td>스튜디오리코 주식회사,스튜디오엔(주)</td>\n",
       "      <td>12세이상관람가</td>\n",
       "      <td>애니메이션</td>\n",
       "      <td>김용환</td>\n",
       "      <td>이수현,김민주,민승우,남도형</td>\n",
       "      <td>충청북도</td>\n",
       "    </tr>\n",
       "    <tr>\n",
       "      <th>0</th>\n",
       "      <td>2025-10-21</td>\n",
       "      <td>보스</td>\n",
       "      <td>2025-10-03</td>\n",
       "      <td>3714400</td>\n",
       "      <td>510</td>\n",
       "      <td>28</td>\n",
       "      <td>84</td>\n",
       "      <td>한국</td>\n",
       "      <td>(주)하이브미디어코프</td>\n",
       "      <td>15세이상관람가</td>\n",
       "      <td>코미디,액션</td>\n",
       "      <td>라희찬</td>\n",
       "      <td>조우진,정경호,박지환,이규형,오달수,황우슬혜,정유진,고창석,이성민</td>\n",
       "      <td>충청북도</td>\n",
       "    </tr>\n",
       "    <tr>\n",
       "      <th>0</th>\n",
       "      <td>2025-10-21</td>\n",
       "      <td>극장판 체인소 맨: 레제편</td>\n",
       "      <td>2025-09-24</td>\n",
       "      <td>5212970</td>\n",
       "      <td>551</td>\n",
       "      <td>29</td>\n",
       "      <td>99</td>\n",
       "      <td>일본</td>\n",
       "      <td></td>\n",
       "      <td>15세이상관람가</td>\n",
       "      <td>애니메이션,액션,어드벤처</td>\n",
       "      <td></td>\n",
       "      <td></td>\n",
       "      <td>충청북도</td>\n",
       "    </tr>\n",
       "  </tbody>\n",
       "</table>\n",
       "<p>21216 rows × 14 columns</p>\n",
       "</div>"
      ],
      "text/plain": [
       "            일자               영화명        개봉일      매출액  관객수  스크린수  상영횟수 대표국적  \\\n",
       "115 2024-09-13  죽고 싶지만 사랑은 하고 싶어 2024-09-04     6000    1     1     1   미국   \n",
       "116 2024-09-13        래시: 뉴 어드벤처 2024-09-12     6000    1     1     1   독일   \n",
       "117 2024-09-13  극장총집편 봇치 더 록! 전편 2024-08-07    13000    1     1     1   일본   \n",
       "101 2024-09-13              늘봄가든 2024-08-21    14000    2     1     1   한국   \n",
       "114 2024-09-13              주토피아 2016-02-17    18000    2     1     1   미국   \n",
       "..         ...               ...        ...      ...  ...   ...   ...  ...   \n",
       "2   2025-10-21  극장판 귀멸의 칼날: 무한성편 2025-08-22  1194360  117    16    22   일본   \n",
       "2   2025-10-21            어쩔수가없다 2025-09-24  1828700  211    24    52   한국   \n",
       "1   2025-10-21             연의 편지 2025-10-01  2104800  304    13    14   한국   \n",
       "0   2025-10-21                보스 2025-10-03  3714400  510    28    84   한국   \n",
       "0   2025-10-21    극장판 체인소 맨: 레제편 2025-09-24  5212970  551    29    99   일본   \n",
       "\n",
       "                        제작사        등급             장르             감독  \\\n",
       "115                          12세이상관람가     드라마,멜로/로맨스        레이첼 램버트   \n",
       "116                             전체관람가    어드벤처,가족,드라마                  \n",
       "117                          12세이상관람가          애니메이션      사이토 케이이치로   \n",
       "101              (주)바이어스이엔티  15세이상관람가     공포(호러),스릴러            구태진   \n",
       "114                             전체관람가  애니메이션,액션,어드벤처  바이론 하워드,리치 무어   \n",
       "..                      ...       ...            ...            ...   \n",
       "2                            15세이상관람가          애니메이션       소토자키 하루오   \n",
       "2    모호필름,씨제이이엔엠 스튜디오스 주식회사  15세이상관람가        스릴러,코미디            박찬욱   \n",
       "1      스튜디오리코 주식회사,스튜디오엔(주)  12세이상관람가          애니메이션            김용환   \n",
       "0               (주)하이브미디어코프  15세이상관람가         코미디,액션            라희찬   \n",
       "0                            15세이상관람가  애니메이션,액션,어드벤처                  \n",
       "\n",
       "                                                    배우    지역  \n",
       "115                                   데이지 리들리,데이브 메르헤예   강원도  \n",
       "116                                   니코 마리츠카,카타리나 슈틀러   강원도  \n",
       "117                  아오야마 요시노,스즈시로 사유미,미즈노 사쿠,하세가와 이쿠미   강원도  \n",
       "101                                조윤희,이지오,김주령,허동원,정인겸   강원도  \n",
       "114                                지니퍼 굿윈,제이슨 베이트먼,샤키라   강원도  \n",
       "..                                                 ...   ...  \n",
       "2    하나에 나츠키,키토 아카리,시모노 히로,마츠오카 요시츠구,오카모토 노부히코,사쿠라이...  충청북도  \n",
       "2                      이병헌,손예진,박희순,이성민,염혜란,차승원,유연석,이진결  충청북도  \n",
       "1                                      이수현,김민주,민승우,남도형  충청북도  \n",
       "0                 조우진,정경호,박지환,이규형,오달수,황우슬혜,정유진,고창석,이성민  충청북도  \n",
       "0                                                       충청북도  \n",
       "\n",
       "[21216 rows x 14 columns]"
      ]
     },
     "execution_count": 28,
     "metadata": {},
     "output_type": "execute_result"
    }
   ],
   "source": [
    "# Sorting: 일자 asc, 지역 asc\n",
    "total_df = total_df.sort_values(by=['일자', '지역', '매출액'], ascending=[True, True, True])\n",
    "total_df"
   ]
  },
  {
   "cell_type": "code",
   "execution_count": 30,
   "id": "fceeeb5f",
   "metadata": {},
   "outputs": [],
   "source": [
    "# 정렬했으니, reindexing\n",
    "total_df.reset_index(drop=True, inplace=True)"
   ]
  },
  {
   "cell_type": "code",
   "execution_count": 31,
   "id": "19ec4618",
   "metadata": {},
   "outputs": [
    {
     "data": {
      "text/html": [
       "<div>\n",
       "<style scoped>\n",
       "    .dataframe tbody tr th:only-of-type {\n",
       "        vertical-align: middle;\n",
       "    }\n",
       "\n",
       "    .dataframe tbody tr th {\n",
       "        vertical-align: top;\n",
       "    }\n",
       "\n",
       "    .dataframe thead th {\n",
       "        text-align: right;\n",
       "    }\n",
       "</style>\n",
       "<table border=\"1\" class=\"dataframe\">\n",
       "  <thead>\n",
       "    <tr style=\"text-align: right;\">\n",
       "      <th></th>\n",
       "      <th>일자</th>\n",
       "      <th>영화명</th>\n",
       "      <th>개봉일</th>\n",
       "      <th>매출액</th>\n",
       "      <th>관객수</th>\n",
       "      <th>스크린수</th>\n",
       "      <th>상영횟수</th>\n",
       "      <th>대표국적</th>\n",
       "      <th>제작사</th>\n",
       "      <th>등급</th>\n",
       "      <th>장르</th>\n",
       "      <th>감독</th>\n",
       "      <th>배우</th>\n",
       "      <th>지역</th>\n",
       "    </tr>\n",
       "  </thead>\n",
       "  <tbody>\n",
       "    <tr>\n",
       "      <th>0</th>\n",
       "      <td>2024-09-13</td>\n",
       "      <td>죽고 싶지만 사랑은 하고 싶어</td>\n",
       "      <td>2024-09-04</td>\n",
       "      <td>6000</td>\n",
       "      <td>1</td>\n",
       "      <td>1</td>\n",
       "      <td>1</td>\n",
       "      <td>미국</td>\n",
       "      <td></td>\n",
       "      <td>12세이상관람가</td>\n",
       "      <td>드라마,멜로/로맨스</td>\n",
       "      <td>레이첼 램버트</td>\n",
       "      <td>데이지 리들리,데이브 메르헤예</td>\n",
       "      <td>강원도</td>\n",
       "    </tr>\n",
       "    <tr>\n",
       "      <th>1</th>\n",
       "      <td>2024-09-13</td>\n",
       "      <td>래시: 뉴 어드벤처</td>\n",
       "      <td>2024-09-12</td>\n",
       "      <td>6000</td>\n",
       "      <td>1</td>\n",
       "      <td>1</td>\n",
       "      <td>1</td>\n",
       "      <td>독일</td>\n",
       "      <td></td>\n",
       "      <td>전체관람가</td>\n",
       "      <td>어드벤처,가족,드라마</td>\n",
       "      <td></td>\n",
       "      <td>니코 마리츠카,카타리나 슈틀러</td>\n",
       "      <td>강원도</td>\n",
       "    </tr>\n",
       "    <tr>\n",
       "      <th>2</th>\n",
       "      <td>2024-09-13</td>\n",
       "      <td>극장총집편 봇치 더 록! 전편</td>\n",
       "      <td>2024-08-07</td>\n",
       "      <td>13000</td>\n",
       "      <td>1</td>\n",
       "      <td>1</td>\n",
       "      <td>1</td>\n",
       "      <td>일본</td>\n",
       "      <td></td>\n",
       "      <td>12세이상관람가</td>\n",
       "      <td>애니메이션</td>\n",
       "      <td>사이토 케이이치로</td>\n",
       "      <td>아오야마 요시노,스즈시로 사유미,미즈노 사쿠,하세가와 이쿠미</td>\n",
       "      <td>강원도</td>\n",
       "    </tr>\n",
       "    <tr>\n",
       "      <th>3</th>\n",
       "      <td>2024-09-13</td>\n",
       "      <td>늘봄가든</td>\n",
       "      <td>2024-08-21</td>\n",
       "      <td>14000</td>\n",
       "      <td>2</td>\n",
       "      <td>1</td>\n",
       "      <td>1</td>\n",
       "      <td>한국</td>\n",
       "      <td>(주)바이어스이엔티</td>\n",
       "      <td>15세이상관람가</td>\n",
       "      <td>공포(호러),스릴러</td>\n",
       "      <td>구태진</td>\n",
       "      <td>조윤희,이지오,김주령,허동원,정인겸</td>\n",
       "      <td>강원도</td>\n",
       "    </tr>\n",
       "    <tr>\n",
       "      <th>4</th>\n",
       "      <td>2024-09-13</td>\n",
       "      <td>주토피아</td>\n",
       "      <td>2016-02-17</td>\n",
       "      <td>18000</td>\n",
       "      <td>2</td>\n",
       "      <td>1</td>\n",
       "      <td>1</td>\n",
       "      <td>미국</td>\n",
       "      <td></td>\n",
       "      <td>전체관람가</td>\n",
       "      <td>애니메이션,액션,어드벤처</td>\n",
       "      <td>바이론 하워드,리치 무어</td>\n",
       "      <td>지니퍼 굿윈,제이슨 베이트먼,샤키라</td>\n",
       "      <td>강원도</td>\n",
       "    </tr>\n",
       "    <tr>\n",
       "      <th>...</th>\n",
       "      <td>...</td>\n",
       "      <td>...</td>\n",
       "      <td>...</td>\n",
       "      <td>...</td>\n",
       "      <td>...</td>\n",
       "      <td>...</td>\n",
       "      <td>...</td>\n",
       "      <td>...</td>\n",
       "      <td>...</td>\n",
       "      <td>...</td>\n",
       "      <td>...</td>\n",
       "      <td>...</td>\n",
       "      <td>...</td>\n",
       "      <td>...</td>\n",
       "    </tr>\n",
       "    <tr>\n",
       "      <th>21211</th>\n",
       "      <td>2025-10-21</td>\n",
       "      <td>극장판 귀멸의 칼날: 무한성편</td>\n",
       "      <td>2025-08-22</td>\n",
       "      <td>1194360</td>\n",
       "      <td>117</td>\n",
       "      <td>16</td>\n",
       "      <td>22</td>\n",
       "      <td>일본</td>\n",
       "      <td></td>\n",
       "      <td>15세이상관람가</td>\n",
       "      <td>애니메이션</td>\n",
       "      <td>소토자키 하루오</td>\n",
       "      <td>하나에 나츠키,키토 아카리,시모노 히로,마츠오카 요시츠구,오카모토 노부히코,사쿠라이...</td>\n",
       "      <td>충청북도</td>\n",
       "    </tr>\n",
       "    <tr>\n",
       "      <th>21212</th>\n",
       "      <td>2025-10-21</td>\n",
       "      <td>어쩔수가없다</td>\n",
       "      <td>2025-09-24</td>\n",
       "      <td>1828700</td>\n",
       "      <td>211</td>\n",
       "      <td>24</td>\n",
       "      <td>52</td>\n",
       "      <td>한국</td>\n",
       "      <td>모호필름,씨제이이엔엠 스튜디오스 주식회사</td>\n",
       "      <td>15세이상관람가</td>\n",
       "      <td>스릴러,코미디</td>\n",
       "      <td>박찬욱</td>\n",
       "      <td>이병헌,손예진,박희순,이성민,염혜란,차승원,유연석,이진결</td>\n",
       "      <td>충청북도</td>\n",
       "    </tr>\n",
       "    <tr>\n",
       "      <th>21213</th>\n",
       "      <td>2025-10-21</td>\n",
       "      <td>연의 편지</td>\n",
       "      <td>2025-10-01</td>\n",
       "      <td>2104800</td>\n",
       "      <td>304</td>\n",
       "      <td>13</td>\n",
       "      <td>14</td>\n",
       "      <td>한국</td>\n",
       "      <td>스튜디오리코 주식회사,스튜디오엔(주)</td>\n",
       "      <td>12세이상관람가</td>\n",
       "      <td>애니메이션</td>\n",
       "      <td>김용환</td>\n",
       "      <td>이수현,김민주,민승우,남도형</td>\n",
       "      <td>충청북도</td>\n",
       "    </tr>\n",
       "    <tr>\n",
       "      <th>21214</th>\n",
       "      <td>2025-10-21</td>\n",
       "      <td>보스</td>\n",
       "      <td>2025-10-03</td>\n",
       "      <td>3714400</td>\n",
       "      <td>510</td>\n",
       "      <td>28</td>\n",
       "      <td>84</td>\n",
       "      <td>한국</td>\n",
       "      <td>(주)하이브미디어코프</td>\n",
       "      <td>15세이상관람가</td>\n",
       "      <td>코미디,액션</td>\n",
       "      <td>라희찬</td>\n",
       "      <td>조우진,정경호,박지환,이규형,오달수,황우슬혜,정유진,고창석,이성민</td>\n",
       "      <td>충청북도</td>\n",
       "    </tr>\n",
       "    <tr>\n",
       "      <th>21215</th>\n",
       "      <td>2025-10-21</td>\n",
       "      <td>극장판 체인소 맨: 레제편</td>\n",
       "      <td>2025-09-24</td>\n",
       "      <td>5212970</td>\n",
       "      <td>551</td>\n",
       "      <td>29</td>\n",
       "      <td>99</td>\n",
       "      <td>일본</td>\n",
       "      <td></td>\n",
       "      <td>15세이상관람가</td>\n",
       "      <td>애니메이션,액션,어드벤처</td>\n",
       "      <td></td>\n",
       "      <td></td>\n",
       "      <td>충청북도</td>\n",
       "    </tr>\n",
       "  </tbody>\n",
       "</table>\n",
       "<p>21216 rows × 14 columns</p>\n",
       "</div>"
      ],
      "text/plain": [
       "              일자               영화명        개봉일      매출액  관객수  스크린수  상영횟수 대표국적  \\\n",
       "0     2024-09-13  죽고 싶지만 사랑은 하고 싶어 2024-09-04     6000    1     1     1   미국   \n",
       "1     2024-09-13        래시: 뉴 어드벤처 2024-09-12     6000    1     1     1   독일   \n",
       "2     2024-09-13  극장총집편 봇치 더 록! 전편 2024-08-07    13000    1     1     1   일본   \n",
       "3     2024-09-13              늘봄가든 2024-08-21    14000    2     1     1   한국   \n",
       "4     2024-09-13              주토피아 2016-02-17    18000    2     1     1   미국   \n",
       "...          ...               ...        ...      ...  ...   ...   ...  ...   \n",
       "21211 2025-10-21  극장판 귀멸의 칼날: 무한성편 2025-08-22  1194360  117    16    22   일본   \n",
       "21212 2025-10-21            어쩔수가없다 2025-09-24  1828700  211    24    52   한국   \n",
       "21213 2025-10-21             연의 편지 2025-10-01  2104800  304    13    14   한국   \n",
       "21214 2025-10-21                보스 2025-10-03  3714400  510    28    84   한국   \n",
       "21215 2025-10-21    극장판 체인소 맨: 레제편 2025-09-24  5212970  551    29    99   일본   \n",
       "\n",
       "                          제작사        등급             장르             감독  \\\n",
       "0                              12세이상관람가     드라마,멜로/로맨스        레이첼 램버트   \n",
       "1                                 전체관람가    어드벤처,가족,드라마                  \n",
       "2                              12세이상관람가          애니메이션      사이토 케이이치로   \n",
       "3                  (주)바이어스이엔티  15세이상관람가     공포(호러),스릴러            구태진   \n",
       "4                                 전체관람가  애니메이션,액션,어드벤처  바이론 하워드,리치 무어   \n",
       "...                       ...       ...            ...            ...   \n",
       "21211                          15세이상관람가          애니메이션       소토자키 하루오   \n",
       "21212  모호필름,씨제이이엔엠 스튜디오스 주식회사  15세이상관람가        스릴러,코미디            박찬욱   \n",
       "21213    스튜디오리코 주식회사,스튜디오엔(주)  12세이상관람가          애니메이션            김용환   \n",
       "21214             (주)하이브미디어코프  15세이상관람가         코미디,액션            라희찬   \n",
       "21215                          15세이상관람가  애니메이션,액션,어드벤처                  \n",
       "\n",
       "                                                      배우    지역  \n",
       "0                                       데이지 리들리,데이브 메르헤예   강원도  \n",
       "1                                       니코 마리츠카,카타리나 슈틀러   강원도  \n",
       "2                      아오야마 요시노,스즈시로 사유미,미즈노 사쿠,하세가와 이쿠미   강원도  \n",
       "3                                    조윤희,이지오,김주령,허동원,정인겸   강원도  \n",
       "4                                    지니퍼 굿윈,제이슨 베이트먼,샤키라   강원도  \n",
       "...                                                  ...   ...  \n",
       "21211  하나에 나츠키,키토 아카리,시모노 히로,마츠오카 요시츠구,오카모토 노부히코,사쿠라이...  충청북도  \n",
       "21212                    이병헌,손예진,박희순,이성민,염혜란,차승원,유연석,이진결  충청북도  \n",
       "21213                                    이수현,김민주,민승우,남도형  충청북도  \n",
       "21214               조우진,정경호,박지환,이규형,오달수,황우슬혜,정유진,고창석,이성민  충청북도  \n",
       "21215                                                     충청북도  \n",
       "\n",
       "[21216 rows x 14 columns]"
      ]
     },
     "execution_count": 31,
     "metadata": {},
     "output_type": "execute_result"
    }
   ],
   "source": [
    "total_df"
   ]
  },
  {
   "cell_type": "code",
   "execution_count": 33,
   "id": "959d545b",
   "metadata": {},
   "outputs": [],
   "source": [
    "# to CSV file\n",
    "total_df.to_csv(download_path + '/kobis_daily_2024_2025_chuseok.csv', sep=\"|\", encoding='utf-8')"
   ]
  },
  {
   "cell_type": "code",
   "execution_count": 34,
   "id": "3f99f0c6",
   "metadata": {},
   "outputs": [],
   "source": [
    "# to json file\n",
    "total_df.to_json(download_path + '/kobis_daily_2024_2025_chuseok.json', indent=2, force_ascii=False)\n",
    "\n",
    "## !! daily OK !!"
   ]
  },
  {
   "cell_type": "markdown",
   "id": "86a917ea",
   "metadata": {},
   "source": [
    "### 이제 DB에 데이터 입력한다!"
   ]
  },
  {
   "cell_type": "raw",
   "id": "280e1057",
   "metadata": {
    "vscode": {
     "languageId": "raw"
    }
   },
   "source": [
    "datetime_record;\n",
    "| dt_id  | bigint | NO   | PRI | NULL    |       |\n",
    "| s_date | date   | NO   |     | NULL    |       |\n",
    "| s_hour | int    | NO   |     |\n",
    "\n",
    "boxoffice;\n",
    "+--------------+-------------+------+-----+---------+-------+\n",
    "| Field        | Type        | Null | Key | Default | Extra |\n",
    "+--------------+-------------+------+-----+---------+-------+\n",
    "| movie_name   | varchar(36) | NO   | PRI | NULL    |       |\n",
    "| release_date | date        | NO   | PRI | NULL    |       |\n",
    "| dt_id        | bigint      | NO   | PRI | NULL    |       |\n",
    "| income       | bigint      | YES  |     | NULL    |       |\n",
    "| views        | int         | YES  |     | NULL    |       |\n",
    "| screen       | int         | YES  |     | NULL    |       |\n",
    "| play_count   | int         | YES  |     | NULL    |       |\n",
    "| is_korean    | char(1)     | YES  |     | NULL    |       |\n",
    "+--------------+-------------+------+-----+---------+-------+\n"
   ]
  },
  {
   "cell_type": "code",
   "execution_count": 39,
   "id": "369c13e7",
   "metadata": {},
   "outputs": [
    {
     "data": {
      "text/plain": [
       "30"
      ]
     },
     "execution_count": 39,
     "metadata": {},
     "output_type": "execute_result"
    }
   ],
   "source": [
    "total_df['대표국적'].unique()\n",
    "len(total_df['대표국적'].unique())"
   ]
  },
  {
   "cell_type": "code",
   "execution_count": 40,
   "id": "2430b076",
   "metadata": {},
   "outputs": [],
   "source": [
    "#column 순서 정리해야\n",
    "# 지역 column -> 일자 뒤로 \n",
    "total_df.columns\n",
    "total_df = total_df[['일자', '지역', '영화명', '개봉일', '관객수', '스크린수', '상영횟수', '매출액', '대표국적', '제작사', '등급',\n",
    "       '장르', '감독', '배우']]"
   ]
  },
  {
   "cell_type": "markdown",
   "id": "f7ea5753",
   "metadata": {},
   "source": [
    "### Table 정규화. movie는...\n",
    "1. boxoffice : ['관람일자', '영화명', '개봉일', '매출액', '관객수', '스크린수', '상영횟수'] #일자 -> 관람일자\n",
    "2. movie : ['영화명', '개봉일', '대표국적', '제작사', '등급', '장르', '감독', '배우']"
   ]
  },
  {
   "cell_type": "code",
   "execution_count": null,
   "id": "f492dda8",
   "metadata": {},
   "outputs": [
    {
     "data": {
      "text/html": [
       "<div>\n",
       "<style scoped>\n",
       "    .dataframe tbody tr th:only-of-type {\n",
       "        vertical-align: middle;\n",
       "    }\n",
       "\n",
       "    .dataframe tbody tr th {\n",
       "        vertical-align: top;\n",
       "    }\n",
       "\n",
       "    .dataframe thead th {\n",
       "        text-align: right;\n",
       "    }\n",
       "</style>\n",
       "<table border=\"1\" class=\"dataframe\">\n",
       "  <thead>\n",
       "    <tr style=\"text-align: right;\">\n",
       "      <th></th>\n",
       "      <th>일자</th>\n",
       "      <th>지역</th>\n",
       "      <th>영화명</th>\n",
       "      <th>개봉일</th>\n",
       "      <th>관객수</th>\n",
       "      <th>스크린수</th>\n",
       "      <th>상영횟수</th>\n",
       "      <th>매출액</th>\n",
       "      <th>대표국적</th>\n",
       "      <th>제작사</th>\n",
       "      <th>등급</th>\n",
       "      <th>장르</th>\n",
       "      <th>감독</th>\n",
       "      <th>배우</th>\n",
       "      <th>is_korean</th>\n",
       "    </tr>\n",
       "  </thead>\n",
       "  <tbody>\n",
       "    <tr>\n",
       "      <th>0</th>\n",
       "      <td>2024-09-13</td>\n",
       "      <td>강원도</td>\n",
       "      <td>죽고 싶지만 사랑은 하고 싶어</td>\n",
       "      <td>2024-09-04</td>\n",
       "      <td>1</td>\n",
       "      <td>1</td>\n",
       "      <td>1</td>\n",
       "      <td>6000</td>\n",
       "      <td>미국</td>\n",
       "      <td></td>\n",
       "      <td>12세이상관람가</td>\n",
       "      <td>드라마,멜로/로맨스</td>\n",
       "      <td>레이첼 램버트</td>\n",
       "      <td>데이지 리들리,데이브 메르헤예</td>\n",
       "      <td>f</td>\n",
       "    </tr>\n",
       "    <tr>\n",
       "      <th>1</th>\n",
       "      <td>2024-09-13</td>\n",
       "      <td>강원도</td>\n",
       "      <td>래시: 뉴 어드벤처</td>\n",
       "      <td>2024-09-12</td>\n",
       "      <td>1</td>\n",
       "      <td>1</td>\n",
       "      <td>1</td>\n",
       "      <td>6000</td>\n",
       "      <td>독일</td>\n",
       "      <td></td>\n",
       "      <td>전체관람가</td>\n",
       "      <td>어드벤처,가족,드라마</td>\n",
       "      <td></td>\n",
       "      <td>니코 마리츠카,카타리나 슈틀러</td>\n",
       "      <td>f</td>\n",
       "    </tr>\n",
       "    <tr>\n",
       "      <th>2</th>\n",
       "      <td>2024-09-13</td>\n",
       "      <td>강원도</td>\n",
       "      <td>극장총집편 봇치 더 록! 전편</td>\n",
       "      <td>2024-08-07</td>\n",
       "      <td>1</td>\n",
       "      <td>1</td>\n",
       "      <td>1</td>\n",
       "      <td>13000</td>\n",
       "      <td>일본</td>\n",
       "      <td></td>\n",
       "      <td>12세이상관람가</td>\n",
       "      <td>애니메이션</td>\n",
       "      <td>사이토 케이이치로</td>\n",
       "      <td>아오야마 요시노,스즈시로 사유미,미즈노 사쿠,하세가와 이쿠미</td>\n",
       "      <td>f</td>\n",
       "    </tr>\n",
       "    <tr>\n",
       "      <th>3</th>\n",
       "      <td>2024-09-13</td>\n",
       "      <td>강원도</td>\n",
       "      <td>늘봄가든</td>\n",
       "      <td>2024-08-21</td>\n",
       "      <td>2</td>\n",
       "      <td>1</td>\n",
       "      <td>1</td>\n",
       "      <td>14000</td>\n",
       "      <td>한국</td>\n",
       "      <td>(주)바이어스이엔티</td>\n",
       "      <td>15세이상관람가</td>\n",
       "      <td>공포(호러),스릴러</td>\n",
       "      <td>구태진</td>\n",
       "      <td>조윤희,이지오,김주령,허동원,정인겸</td>\n",
       "      <td>k</td>\n",
       "    </tr>\n",
       "    <tr>\n",
       "      <th>4</th>\n",
       "      <td>2024-09-13</td>\n",
       "      <td>강원도</td>\n",
       "      <td>주토피아</td>\n",
       "      <td>2016-02-17</td>\n",
       "      <td>2</td>\n",
       "      <td>1</td>\n",
       "      <td>1</td>\n",
       "      <td>18000</td>\n",
       "      <td>미국</td>\n",
       "      <td></td>\n",
       "      <td>전체관람가</td>\n",
       "      <td>애니메이션,액션,어드벤처</td>\n",
       "      <td>바이론 하워드,리치 무어</td>\n",
       "      <td>지니퍼 굿윈,제이슨 베이트먼,샤키라</td>\n",
       "      <td>f</td>\n",
       "    </tr>\n",
       "    <tr>\n",
       "      <th>...</th>\n",
       "      <td>...</td>\n",
       "      <td>...</td>\n",
       "      <td>...</td>\n",
       "      <td>...</td>\n",
       "      <td>...</td>\n",
       "      <td>...</td>\n",
       "      <td>...</td>\n",
       "      <td>...</td>\n",
       "      <td>...</td>\n",
       "      <td>...</td>\n",
       "      <td>...</td>\n",
       "      <td>...</td>\n",
       "      <td>...</td>\n",
       "      <td>...</td>\n",
       "      <td>...</td>\n",
       "    </tr>\n",
       "    <tr>\n",
       "      <th>21211</th>\n",
       "      <td>2025-10-21</td>\n",
       "      <td>충청북도</td>\n",
       "      <td>극장판 귀멸의 칼날: 무한성편</td>\n",
       "      <td>2025-08-22</td>\n",
       "      <td>117</td>\n",
       "      <td>16</td>\n",
       "      <td>22</td>\n",
       "      <td>1194360</td>\n",
       "      <td>일본</td>\n",
       "      <td></td>\n",
       "      <td>15세이상관람가</td>\n",
       "      <td>애니메이션</td>\n",
       "      <td>소토자키 하루오</td>\n",
       "      <td>하나에 나츠키,키토 아카리,시모노 히로,마츠오카 요시츠구,오카모토 노부히코,사쿠라이...</td>\n",
       "      <td>f</td>\n",
       "    </tr>\n",
       "    <tr>\n",
       "      <th>21212</th>\n",
       "      <td>2025-10-21</td>\n",
       "      <td>충청북도</td>\n",
       "      <td>어쩔수가없다</td>\n",
       "      <td>2025-09-24</td>\n",
       "      <td>211</td>\n",
       "      <td>24</td>\n",
       "      <td>52</td>\n",
       "      <td>1828700</td>\n",
       "      <td>한국</td>\n",
       "      <td>모호필름,씨제이이엔엠 스튜디오스 주식회사</td>\n",
       "      <td>15세이상관람가</td>\n",
       "      <td>스릴러,코미디</td>\n",
       "      <td>박찬욱</td>\n",
       "      <td>이병헌,손예진,박희순,이성민,염혜란,차승원,유연석,이진결</td>\n",
       "      <td>k</td>\n",
       "    </tr>\n",
       "    <tr>\n",
       "      <th>21213</th>\n",
       "      <td>2025-10-21</td>\n",
       "      <td>충청북도</td>\n",
       "      <td>연의 편지</td>\n",
       "      <td>2025-10-01</td>\n",
       "      <td>304</td>\n",
       "      <td>13</td>\n",
       "      <td>14</td>\n",
       "      <td>2104800</td>\n",
       "      <td>한국</td>\n",
       "      <td>스튜디오리코 주식회사,스튜디오엔(주)</td>\n",
       "      <td>12세이상관람가</td>\n",
       "      <td>애니메이션</td>\n",
       "      <td>김용환</td>\n",
       "      <td>이수현,김민주,민승우,남도형</td>\n",
       "      <td>k</td>\n",
       "    </tr>\n",
       "    <tr>\n",
       "      <th>21214</th>\n",
       "      <td>2025-10-21</td>\n",
       "      <td>충청북도</td>\n",
       "      <td>보스</td>\n",
       "      <td>2025-10-03</td>\n",
       "      <td>510</td>\n",
       "      <td>28</td>\n",
       "      <td>84</td>\n",
       "      <td>3714400</td>\n",
       "      <td>한국</td>\n",
       "      <td>(주)하이브미디어코프</td>\n",
       "      <td>15세이상관람가</td>\n",
       "      <td>코미디,액션</td>\n",
       "      <td>라희찬</td>\n",
       "      <td>조우진,정경호,박지환,이규형,오달수,황우슬혜,정유진,고창석,이성민</td>\n",
       "      <td>k</td>\n",
       "    </tr>\n",
       "    <tr>\n",
       "      <th>21215</th>\n",
       "      <td>2025-10-21</td>\n",
       "      <td>충청북도</td>\n",
       "      <td>극장판 체인소 맨: 레제편</td>\n",
       "      <td>2025-09-24</td>\n",
       "      <td>551</td>\n",
       "      <td>29</td>\n",
       "      <td>99</td>\n",
       "      <td>5212970</td>\n",
       "      <td>일본</td>\n",
       "      <td></td>\n",
       "      <td>15세이상관람가</td>\n",
       "      <td>애니메이션,액션,어드벤처</td>\n",
       "      <td></td>\n",
       "      <td></td>\n",
       "      <td>f</td>\n",
       "    </tr>\n",
       "  </tbody>\n",
       "</table>\n",
       "<p>21216 rows × 15 columns</p>\n",
       "</div>"
      ],
      "text/plain": [
       "              일자    지역               영화명        개봉일  관객수  스크린수  상영횟수      매출액  \\\n",
       "0     2024-09-13   강원도  죽고 싶지만 사랑은 하고 싶어 2024-09-04    1     1     1     6000   \n",
       "1     2024-09-13   강원도        래시: 뉴 어드벤처 2024-09-12    1     1     1     6000   \n",
       "2     2024-09-13   강원도  극장총집편 봇치 더 록! 전편 2024-08-07    1     1     1    13000   \n",
       "3     2024-09-13   강원도              늘봄가든 2024-08-21    2     1     1    14000   \n",
       "4     2024-09-13   강원도              주토피아 2016-02-17    2     1     1    18000   \n",
       "...          ...   ...               ...        ...  ...   ...   ...      ...   \n",
       "21211 2025-10-21  충청북도  극장판 귀멸의 칼날: 무한성편 2025-08-22  117    16    22  1194360   \n",
       "21212 2025-10-21  충청북도            어쩔수가없다 2025-09-24  211    24    52  1828700   \n",
       "21213 2025-10-21  충청북도             연의 편지 2025-10-01  304    13    14  2104800   \n",
       "21214 2025-10-21  충청북도                보스 2025-10-03  510    28    84  3714400   \n",
       "21215 2025-10-21  충청북도    극장판 체인소 맨: 레제편 2025-09-24  551    29    99  5212970   \n",
       "\n",
       "      대표국적                     제작사        등급             장르             감독  \\\n",
       "0       미국                          12세이상관람가     드라마,멜로/로맨스        레이첼 램버트   \n",
       "1       독일                             전체관람가    어드벤처,가족,드라마                  \n",
       "2       일본                          12세이상관람가          애니메이션      사이토 케이이치로   \n",
       "3       한국              (주)바이어스이엔티  15세이상관람가     공포(호러),스릴러            구태진   \n",
       "4       미국                             전체관람가  애니메이션,액션,어드벤처  바이론 하워드,리치 무어   \n",
       "...    ...                     ...       ...            ...            ...   \n",
       "21211   일본                          15세이상관람가          애니메이션       소토자키 하루오   \n",
       "21212   한국  모호필름,씨제이이엔엠 스튜디오스 주식회사  15세이상관람가        스릴러,코미디            박찬욱   \n",
       "21213   한국    스튜디오리코 주식회사,스튜디오엔(주)  12세이상관람가          애니메이션            김용환   \n",
       "21214   한국             (주)하이브미디어코프  15세이상관람가         코미디,액션            라희찬   \n",
       "21215   일본                          15세이상관람가  애니메이션,액션,어드벤처                  \n",
       "\n",
       "                                                      배우 is_korean  \n",
       "0                                       데이지 리들리,데이브 메르헤예         f  \n",
       "1                                       니코 마리츠카,카타리나 슈틀러         f  \n",
       "2                      아오야마 요시노,스즈시로 사유미,미즈노 사쿠,하세가와 이쿠미         f  \n",
       "3                                    조윤희,이지오,김주령,허동원,정인겸         k  \n",
       "4                                    지니퍼 굿윈,제이슨 베이트먼,샤키라         f  \n",
       "...                                                  ...       ...  \n",
       "21211  하나에 나츠키,키토 아카리,시모노 히로,마츠오카 요시츠구,오카모토 노부히코,사쿠라이...         f  \n",
       "21212                    이병헌,손예진,박희순,이성민,염혜란,차승원,유연석,이진결         k  \n",
       "21213                                    이수현,김민주,민승우,남도형         k  \n",
       "21214               조우진,정경호,박지환,이규형,오달수,황우슬혜,정유진,고창석,이성민         k  \n",
       "21215                                                            f  \n",
       "\n",
       "[21216 rows x 15 columns]"
      ]
     },
     "execution_count": 42,
     "metadata": {},
     "output_type": "execute_result"
    }
   ],
   "source": [
    "import numpy as np\n",
    "\n",
    "## total_df is_korean 컬럼 추가 : 대표국적 컬럼 이용해서\n",
    "total_df['is_korean'] = np.where(total_df['대표국적'] == '한국', 'k', 'f')\n",
    "total_df"
   ]
  },
  {
   "cell_type": "code",
   "execution_count": 46,
   "id": "f3bbb42f",
   "metadata": {},
   "outputs": [
    {
     "data": {
      "text/plain": [
       "array(['24091399', '24091499', '24091599', '24091699', '24091799',\n",
       "       '24091899', '24091999', '25092699', '25092799', '25092899',\n",
       "       '25092999', '25093099', '25100199', '25100299', '25100399',\n",
       "       '25100499', '25100599', '25100699', '25100799', '25100899',\n",
       "       '25100999', '25101099', '25101199', '25101299', '25101399',\n",
       "       '25101499', '25101599', '25101699', '25101799', '25101899',\n",
       "       '25101999', '25102099', '25102199'], dtype=object)"
      ]
     },
     "execution_count": 46,
     "metadata": {},
     "output_type": "execute_result"
    }
   ],
   "source": [
    "# dt_id 추가 \n",
    "# 형식 yymmdd99\n",
    "total_df['dt_id'] = total_df['일자'].dt.strftime('%y%m%d99')\n",
    "total_df['dt_id'].unique()\n"
   ]
  },
  {
   "cell_type": "code",
   "execution_count": 45,
   "id": "8dbd558d",
   "metadata": {},
   "outputs": [
    {
     "data": {
      "text/plain": [
       "array(['f', 'k'], dtype=object)"
      ]
     },
     "execution_count": 45,
     "metadata": {},
     "output_type": "execute_result"
    }
   ],
   "source": [
    "# total_df.columns.unique()\n",
    "total_df['is_korean'].unique()"
   ]
  },
  {
   "cell_type": "code",
   "execution_count": null,
   "id": "f9bc4899",
   "metadata": {},
   "outputs": [],
   "source": [
    "import mysql.connector\n",
    "import pandas as pd\n",
    "from mysql.connector import Error\n",
    "\n",
    "try:\n",
    "    conn = mysql.connector.connect(\n",
    "        host='localhost',\n",
    "        user='root',\n",
    "        password='1234',\n",
    "        database='amrbase'\n",
    "    )\n",
    "    cursor = conn.cursor()\n",
    "\n",
    "    for i, row in total_df.iterrows():\n",
    "        if i == 0:\n",
    "            continue\n",
    "\n",
    "        print(i, row)#, end='')\n",
    "\n",
    "        cursor.execute(\"\"\"\n",
    "            INSERT INTO boxoffice (\n",
    "                            movie_name, release_date, dt_id, region\n",
    "                            , income, views, screen, play_count, is_korean\n",
    "                       )                \n",
    "            VALUES (%s,%s,%s,%s,%s,%s,%s,%s,%s)\n",
    "        \"\"\", (\n",
    "            row['영화명'], row['개봉일'], row['dt_id'], row['지역']\n",
    "            , row['매출액'], row['관객수'], row['스크린수'], row['상영횟수']\n",
    "            , row['is_korean']\n",
    "        ))\n",
    "    \n",
    "    conn.commit()\n",
    "    print(\"MySQL로 데이터 업로드 OK!\")\n",
    "\n",
    "except Error as e:\n",
    "    print(f\"Error ! {e}\")\n",
    "    pass\n",
    "\n",
    "finally:\n",
    "    conn.close()\n",
    "\n"
   ]
  },
  {
   "cell_type": "raw",
   "id": "101e96cf",
   "metadata": {
    "vscode": {
     "languageId": "raw"
    }
   },
   "source": [
    ".... 아래와 같은 로그 나옴. 너무 많아 삭제....\n",
    "\n",
    "1 일자           2024-09-13 00:00:00\n",
    "영화명                   래시: 뉴 어드벤처\n",
    "개봉일          2024-09-12 00:00:00\n",
    "매출액                         6000\n",
    "관객수                            1\n",
    "스크린수                           1\n",
    "상영횟수                           1\n",
    "대표국적                          독일\n",
    "제작사                             \n",
    "등급                         전체관람가\n",
    "장르                   어드벤처,가족,드라마\n",
    "감독                              \n",
    "배우              니코 마리츠카,카타리나 슈틀러\n",
    "지역                           강원도\n",
    "is_korean                      f\n",
    "Name: 1, dtype: object\n",
    "2 일자                         2024-09-13 00:00:00\n",
    "영화명                           극장총집편 봇치 더 록! 전편\n",
    "개봉일                        2024-08-07 00:00:00\n",
    "매출액                                      13000\n",
    "관객수                                          1\n",
    "스크린수                                         1\n",
    "상영횟수                                         1\n",
    "대표국적                                        일본\n",
    "제작사                                           \n",
    "...\n",
    "지역                          충청북도\n",
    "is_korean                      f\n",
    "Name: 21215, dtype: object\n",
    "MySQL로 데이터 업로드 OK!"
   ]
  },
  {
   "cell_type": "markdown",
   "id": "e386f59e",
   "metadata": {},
   "source": [
    "<<<------------여기까지 Daily boxoffice crawling 완료 ------------>>> "
   ]
  },
  {
   "cell_type": "raw",
   "id": "26b2a903",
   "metadata": {
    "vscode": {
     "languageId": "raw"
    }
   },
   "source": [
    "### 파일에서 다시 읽어 DB에 넣자.\n",
    " !파일에서 다시 읽어오니 쓰레기 값들이 생긴다. 특히 Nan 같은.\n",
    " df = pd.read_csv('/home/addinedu/dev_ws/eda_proj/data/kobis_daily_2024_2025_chuseok.csv', sep='|')\n",
    " print(df.head())\n",
    " data_df = df[1:]\n",
    " print(len(df))\n",
    "#### 이것도 차후로 미루고, 현재 있는 total_df 로 한다."
   ]
  },
  {
   "cell_type": "code",
   "execution_count": 20,
   "id": "7e92e3df",
   "metadata": {},
   "outputs": [],
   "source": [
    "# left menu : 트리구조로 하위 메뉴들이 있다.\n",
    "# '월별' 클릭 ('연도별', '일별')\n",
    "def left_date_menu_change(sub_menu_name):\n",
    "    '''\n",
    "    sub_menu_name:'연도별', '월별', '일별'\n",
    "    '''\n",
    "    global driver\n",
    "\n",
    "    left_menu = driver.find_element(By.CLASS_NAME, \"list_snb\")\n",
    "    box_office_li = left_menu.find_element(By.CSS_SELECTOR, \"li\")\n",
    "    sub_list = box_office_li.find_elements(By.CSS_SELECTOR, \"a\")\n",
    "    for a in sub_list:\n",
    "        # print(a.text)\n",
    "        if a.text == sub_menu_name:\n",
    "            a.click()\n",
    "            break"
   ]
  },
  {
   "cell_type": "code",
   "execution_count": 62,
   "id": "e12ae3ad",
   "metadata": {},
   "outputs": [],
   "source": [
    "left_date_menu_change('월별')"
   ]
  },
  {
   "cell_type": "code",
   "execution_count": 58,
   "id": "5aaddcf7",
   "metadata": {},
   "outputs": [],
   "source": [
    "def set_monthly_searh_date_option_by_start_date(from_to):\n",
    "    '''\n",
    "    from_to = ['2025','09', '2025', '12']\n",
    "    '''\n",
    "    global driver\n",
    "\n",
    "    # 2.1 st 년 \n",
    "    Select(driver.find_element(By.ID,\"sSearchYearFrom\")).select_by_value(from_to[0])\n",
    "    # 2.2 st 월\n",
    "    Select(driver.find_element(By.ID,\"sSearchMonthFrom\")).select_by_value(from_to[1])\n",
    "    time.sleep(2)\n",
    "\n",
    "     # 2.3 end 년 \n",
    "    Select(driver.find_element(By.ID,\"sSearchYearTo\")).select_by_value(from_to[2])\n",
    "    # 2.4 end 월\n",
    "    Select(driver.find_element(By.ID,\"sSearchMonthTo\")).select_by_value(from_to[3])\n"
   ]
  },
  {
   "cell_type": "code",
   "execution_count": 63,
   "id": "1ca8e6bc",
   "metadata": {},
   "outputs": [
    {
     "name": "stdout",
     "output_type": "stream",
     "text": [
      "1 / 5 ['2024', '10', '2024', '11']"
     ]
    },
    {
     "name": "stderr",
     "output_type": "stream",
     "text": [
      "  0%|          | 0/3 [00:00<?, ?it/s]"
     ]
    },
    {
     "name": "stdout",
     "output_type": "stream",
     "text": [
      "0105001\n"
     ]
    },
    {
     "name": "stderr",
     "output_type": "stream",
     "text": [
      " 33%|███▎      | 1/3 [00:01<00:03,  1.77s/it]"
     ]
    },
    {
     "name": "stdout",
     "output_type": "stream",
     "text": [
      "0105002\n"
     ]
    },
    {
     "name": "stderr",
     "output_type": "stream",
     "text": [
      " 67%|██████▋   | 2/3 [00:03<00:01,  1.65s/it]"
     ]
    },
    {
     "name": "stdout",
     "output_type": "stream",
     "text": [
      "0105003\n"
     ]
    },
    {
     "name": "stderr",
     "output_type": "stream",
     "text": [
      "100%|██████████| 3/3 [00:04<00:00,  1.48s/it]\n"
     ]
    },
    {
     "name": "stdout",
     "output_type": "stream",
     "text": [
      "2 / 5 ['2025', '01', '2025', '02']"
     ]
    },
    {
     "name": "stderr",
     "output_type": "stream",
     "text": [
      "  0%|          | 0/3 [00:00<?, ?it/s]"
     ]
    },
    {
     "name": "stdout",
     "output_type": "stream",
     "text": [
      "0105001\n"
     ]
    },
    {
     "name": "stderr",
     "output_type": "stream",
     "text": [
      " 33%|███▎      | 1/3 [00:01<00:02,  1.14s/it]"
     ]
    },
    {
     "name": "stdout",
     "output_type": "stream",
     "text": [
      "0105002\n"
     ]
    },
    {
     "name": "stderr",
     "output_type": "stream",
     "text": [
      " 67%|██████▋   | 2/3 [00:03<00:01,  1.63s/it]"
     ]
    },
    {
     "name": "stdout",
     "output_type": "stream",
     "text": [
      "0105003\n"
     ]
    },
    {
     "name": "stderr",
     "output_type": "stream",
     "text": [
      "100%|██████████| 3/3 [00:04<00:00,  1.54s/it]\n"
     ]
    },
    {
     "name": "stdout",
     "output_type": "stream",
     "text": [
      "3 / 5 ['2025', '04', '2025', '05']"
     ]
    },
    {
     "name": "stderr",
     "output_type": "stream",
     "text": [
      "  0%|          | 0/3 [00:00<?, ?it/s]"
     ]
    },
    {
     "name": "stdout",
     "output_type": "stream",
     "text": [
      "0105001\n"
     ]
    },
    {
     "name": "stderr",
     "output_type": "stream",
     "text": [
      " 33%|███▎      | 1/3 [00:01<00:03,  1.52s/it]"
     ]
    },
    {
     "name": "stdout",
     "output_type": "stream",
     "text": [
      "0105002\n"
     ]
    },
    {
     "name": "stderr",
     "output_type": "stream",
     "text": [
      " 67%|██████▋   | 2/3 [00:02<00:01,  1.31s/it]"
     ]
    },
    {
     "name": "stdout",
     "output_type": "stream",
     "text": [
      "0105003\n"
     ]
    },
    {
     "name": "stderr",
     "output_type": "stream",
     "text": [
      "100%|██████████| 3/3 [00:04<00:00,  1.39s/it]\n"
     ]
    },
    {
     "name": "stdout",
     "output_type": "stream",
     "text": [
      "4 / 5 ['2025', '07', '2025', '08']"
     ]
    },
    {
     "name": "stderr",
     "output_type": "stream",
     "text": [
      "  0%|          | 0/3 [00:00<?, ?it/s]"
     ]
    },
    {
     "name": "stdout",
     "output_type": "stream",
     "text": [
      "0105001\n"
     ]
    },
    {
     "name": "stderr",
     "output_type": "stream",
     "text": [
      " 33%|███▎      | 1/3 [00:01<00:03,  1.85s/it]"
     ]
    },
    {
     "name": "stdout",
     "output_type": "stream",
     "text": [
      "0105002\n"
     ]
    },
    {
     "name": "stderr",
     "output_type": "stream",
     "text": [
      " 67%|██████▋   | 2/3 [00:03<00:01,  1.65s/it]"
     ]
    },
    {
     "name": "stdout",
     "output_type": "stream",
     "text": [
      "0105003\n"
     ]
    },
    {
     "name": "stderr",
     "output_type": "stream",
     "text": [
      "100%|██████████| 3/3 [00:04<00:00,  1.60s/it]\n"
     ]
    },
    {
     "name": "stdout",
     "output_type": "stream",
     "text": [
      "5 / 5 ['2025', '10', '2025', '11']"
     ]
    },
    {
     "name": "stderr",
     "output_type": "stream",
     "text": [
      "  0%|          | 0/3 [00:00<?, ?it/s]"
     ]
    },
    {
     "name": "stdout",
     "output_type": "stream",
     "text": [
      "0105001\n"
     ]
    },
    {
     "name": "stderr",
     "output_type": "stream",
     "text": [
      " 33%|███▎      | 1/3 [00:01<00:03,  1.72s/it]"
     ]
    },
    {
     "name": "stdout",
     "output_type": "stream",
     "text": [
      "0105002\n"
     ]
    },
    {
     "name": "stderr",
     "output_type": "stream",
     "text": [
      " 67%|██████▋   | 2/3 [00:03<00:01,  1.75s/it]"
     ]
    },
    {
     "name": "stdout",
     "output_type": "stream",
     "text": [
      "0105003\n"
     ]
    },
    {
     "name": "stderr",
     "output_type": "stream",
     "text": [
      "100%|██████████| 3/3 [00:04<00:00,  1.62s/it]\n"
     ]
    }
   ],
   "source": [
    "monthly_start_date_list = [\n",
    "    # ['2024', '01', '2024', '02'],\n",
    "    # ['2024', '03', '2024', '04'],\n",
    "    # ['2024', '05', '2024', '06'],\n",
    "    # ['2024', '07', '2024', '08'],\n",
    "    # ['2024', '09', '2024', '10'],\n",
    "    # ['2024', '11', '2024', '12'],\n",
    "    # ['2025', '01', '2025', '02'],\n",
    "    # ['2025', '03', '2025', '04'],\n",
    "    # ['2025', '05', '2025', '06'],\n",
    "    # ['2025', '07', '2025', '08'],\n",
    "    # ['2025', '09', '2025', '10']\n",
    "    # ['2024', '01', '2024', '02'],\n",
    "    # ['2024', '07', '2024', '08'],\n",
    "    # ['2025', '01', '2025', '02'],\n",
    "    # ['2025', '07', '2025', '08']\n",
    "    # ['2024', '01', '2024', '02'],\n",
    "\n",
    "    # ['2024', '04', '2024', '05'],\n",
    "    # ['2024', '07', '2024', '08'],\n",
    "    ['2024', '10', '2024', '11'],\n",
    "    ['2025', '01', '2025', '02'],\n",
    "    ['2025', '04', '2025', '05'],\n",
    "    ['2025', '07', '2025', '08'],\n",
    "    ['2025', '10', '2025', '11']\n",
    "]\n",
    "\n",
    "#region\n",
    "#지역 선택: 개별지역 돌아가며 -> 전체로 한다.\n",
    "region_select = driver.find_element(By.ID, \"sWideAreaCd\")\n",
    "region_option_list = region_select.find_elements(By.TAG_NAME, \"option\")\n",
    "region_list = [r_opt.get_attribute(\"value\") for r_opt in region_option_list if r_opt.get_attribute(\"value\")]\n",
    "\n",
    "# driver.set_page_load_timeout(240)#2분 지나면 타임아웃 에러 발생!\n",
    "\n",
    "#date\n",
    "date_len = len(monthly_start_date_list)\n",
    "for di, start_date in enumerate(monthly_start_date_list):\n",
    "    print(di+1, '/', date_len, start_date, end='')\n",
    "    set_monthly_searh_date_option_by_start_date(start_date)\n",
    "    time.sleep(0.5)\n",
    "\n",
    "    for r_val in tqdm(region_list[:3]):#!! 일부만!!\n",
    "        print(r_val)\n",
    "        region_select = driver.find_element(By.ID, \"sWideAreaCd\")# !!이렇게 안쓰니 StaleElementReferenceException 에러가 나는데...\n",
    "        Select(region_select).select_by_value(r_val)\n",
    "        time.sleep( random.uniform(1,2) )\n",
    "\n",
    "        # clickSearchButton() # type: ignore \n",
    "        # # time.sleep( random.uniform(1,2) )\n",
    "\n",
    "        # downloadExcelFile()\n",
    "        # # time.sleep( random.uniform(3,5) )\n",
    "\n",
    "    # clickSearchButton() # type: ignore # time.sleep( random.uniform(5,8) )\n",
    "\n",
    "    # downloadExcelFile()\n",
    "    # time.sleep( random.uniform(3,5) )\n"
   ]
  },
  {
   "cell_type": "markdown",
   "id": "c0fa5447",
   "metadata": {},
   "source": [
    "1. 문제\n",
    "1.1 Read timeout 발생 : 2분 넘어가니 짤 없이 짤림. 서비스 제공하는 서버에서 Time out 2분 설정한 것 같음.\n",
    " - 검색조건 범위를 줄여서 2분 안으로 설정.\n",
    " ! 지역단위로, 2개월 간격 조회 => 월 단위 조회는 1개월 더 추가되어 조회됨. 수동으로 6개월치 조회했을 때에도 7개월치 조회되었음.\n",
    " => 24.1~2, 24.4~5, 24.7~8, 24.10~11 \n",
    "    25.1~2, 25.4~5, 25.7~8, 25.10~11  이렇게 조회한다!!\n",
    "\n",
    "2.1 간헐적인 StaleElementReferenceException 발생 cf) https://spiaminto.tistory.com/19\n",
    " - 셀레니움 드라이버가 페이지의 요소를 미리 기록해두었으나 이후의 요청 시점에 그 요소를 DOM 에서 엑세스 할 수 없을때 발생하는 예외이다. \n",
    " 주로 WebDriverWait.until() 로 찾아놓은 element 객체에 element.getAttribute() 메서드 호출시점에 발생했다. headless 모드를 끄고 브라우저를 통해 직접 확인해 보았으나 DOM 에 변화가 없었음에도 불구하고 예외가 발생했다.\n",
    " => try except 걸어, 해당 element 다시 찾아서 -> click 하는 걸로 수정. 아직 재현 안되어서... 체크 필요!\n",
    "\n",
    "\n",
    "'여기까지. 24.1~3 월 17개 지역 월단위 xls 파일로 다운로드 oK!'\n",
    "\n",
    "자, 이렇게 다시!\n",
    "    ['2024', '04', '2024', '05'],\n",
    "    ['2024', '07', '2024', '08'],\n",
    "    ['2024', '10', '2024', '11'],\n",
    "    ['2025', '01', '2025', '02'],\n",
    "    ['2025', '04', '2025', '05'],\n",
    "    ['2025', '07', '2025', '08'],\n",
    "    ['2025', '10', '2025', '11']\n"
   ]
  },
  {
   "cell_type": "markdown",
   "id": "2d50f83e",
   "metadata": {
    "vscode": {
     "languageId": "raw"
    }
   },
   "source": [
    "---------------------------------------------------------------------------\n",
    "StaleElementReferenceException            Traceback (most recent call last)\n",
    "Cell In[41], line 50\n",
    "     46     time.sleep( random.uniform(1,2) )\n",
    "     48     clickSearchButton() # type: ignore # time.sleep( random.uniform(5,8) )\n",
    "---> 50     downloadExcelFile()\n",
    "     51     time.sleep( random.uniform(3,5) )\n",
    "     53 # clickSearchButton() # type: ignore # time.sleep( random.uniform(5,8) )\n",
    "     54 \n",
    "     55 # downloadExcelFile()\n",
    "     56 # time.sleep( random.uniform(3,5) )\n",
    "\n",
    "Cell In[38], line 9\n",
    "      6 print('Excel 다운로드!')\n",
    "      7 global driver\n",
    "----> 9 exl_btn = driver.find_element(By.CSS_SELECTOR,\".f_sch\").find_element(By.TAG_NAME, \"a\")\n",
    "     10 try:\n",
    "     11     WebDriverWait(driver, 240).until(EC.element_to_be_clickable(exl_btn))\n",
    "\n",
    "File ~/venv/eda_venv/lib/python3.12/site-packages/selenium/webdriver/remote/webelement.py:602, in WebElement.find_element(self, by, value)\n",
    "    576 \"\"\"Find an element given a By strategy and locator.\n",
    "    577 \n",
    "    578 Parameters:\n",
    "   (...)    599     The first matching `WebElement` found on the page."
   ]
  },
  {
   "cell_type": "markdown",
   "id": "c97420f4",
   "metadata": {},
   "source": [
    "월 기간 검색조건 selenium 으로 조작했을때, \n",
    " 24.10 - 24.11 설정시 => 24.06 - 24.11로 설정되어 2분 넘게 소요됨!\n",
    " 25.10 - 25.11 설정시 같은문제 발생 안함!\n",
    "\n",
    " ==> 자바스크립트에 callback 함수로 기간 6개월로 자동 설정하도록 되어있는 것 같음. 보통 그렇게 사용함 - 이유는 .. 여러가지인데 생략.\n",
    " \n",
    "\n",
    "---------------------------------------------------------------------------\n",
    "TimeoutError                              Traceback (most recent call last)\n",
    "File ~/venv/eda_venv/lib/python3.12/site-packages/urllib3/connectionpool.py:534, in HTTPConnectionPool._make_request(self, conn, method, url, body, headers, retries, timeout, chunked, response_conn, preload_content, decode_content, enforce_content_length)\n",
    "    533 try:\n",
    "--> 534     response = conn.getresponse()\n",
    "    535 except (BaseSSLError, OSError) as e:\n",
    "\n",
    "File ~/venv/eda_venv/lib/python3.12/site-packages/urllib3/connection.py:565, in HTTPConnection.getresponse(self)\n",
    "    564 # Get the response from http.client.HTTPConnection\n",
    "--> 565 httplib_response = super().getresponse()\n",
    "    567 try:\n",
    "\n",
    "File /usr/lib/python3.12/http/client.py:1428, in HTTPConnection.getresponse(self)\n",
    "   1427 try:\n",
    "-> 1428     response.begin()\n",
    "   1429 except ConnectionError:\n",
    "\n",
    "File /usr/lib/python3.12/http/client.py:331, in HTTPResponse.begin(self)\n",
    "    330 while True:\n",
    "--> 331     version, status, reason = self._read_status()\n",
    "    332     if status != CONTINUE:\n",
    "\n",
    "File /usr/lib/python3.12/http/client.py:292, in HTTPResponse._read_status(self)\n",
    "    291 def _read_status(self):\n",
    "--> 292     line = str(self.fp.readline(_MAXLINE + 1), \"iso-8859-1\")\n",
    "...\n",
    "    369     ) from err\n",
    "    371 # See the above comment about EAGAIN in Python 3.\n",
    "    372 if hasattr(err, \"errno\") and err.errno in _blocking_errnos:\n",
    "\n",
    "ReadTimeoutError: HTTPConnectionPool(host='localhost', port=59923): Read timed out. (read timeout=120)\n",
    "Output is truncated. View as a scrollable element or open in a text editor. Adjust cell output settings..."
   ]
  },
  {
   "cell_type": "code",
   "execution_count": 10,
   "id": "b5f979b8",
   "metadata": {},
   "outputs": [],
   "source": [
    "driver.quit()"
   ]
  }
 ],
 "metadata": {
  "kernelspec": {
   "display_name": "eda_venv",
   "language": "python",
   "name": "python3"
  },
  "language_info": {
   "codemirror_mode": {
    "name": "ipython",
    "version": 3
   },
   "file_extension": ".py",
   "mimetype": "text/x-python",
   "name": "python",
   "nbconvert_exporter": "python",
   "pygments_lexer": "ipython3",
   "version": "3.12.3"
  }
 },
 "nbformat": 4,
 "nbformat_minor": 5
}
