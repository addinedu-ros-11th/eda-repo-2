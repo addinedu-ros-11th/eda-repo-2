{
 "cells": [
  {
   "cell_type": "code",
   "execution_count": 1,
   "id": "bed56d01",
   "metadata": {},
   "outputs": [
    {
     "data": {
      "text/plain": [
       "dict"
      ]
     },
     "execution_count": 1,
     "metadata": {},
     "output_type": "execute_result"
    }
   ],
   "source": [
    "dict_data = {'startDate': '2025-10-02', 'endDate': '2025-10-09', 'timeUnit': 'date', 'results': [{'title': '축산물', 'category': ['50000145'], 'data': [{'period': '2025-10-02', 'ratio': 54.04346}, {'period': '2025-10-03', 'ratio': 44.18259}, {'period': '2025-10-04', 'ratio': 36.96575}, {'period': '2025-10-05', 'ratio': 32.72675}, {'period': '2025-10-06', 'ratio': 29.94414}, {'period': '2025-10-07', 'ratio': 32.34473}, {'period': '2025-10-08', 'ratio': 33.73965}, {'period': '2025-10-09', 'ratio': 39.41093}]}, {'title': '수산물', 'category': ['50000159'], 'data': [{'period': '2025-10-02', 'ratio': 59.17003}, {'period': '2025-10-03', 'ratio': 51.0849}, {'period': '2025-10-04', 'ratio': 45.84746}, {'period': '2025-10-05', 'ratio': 42.71295}, {'period': '2025-10-06', 'ratio': 43.34624}, {'period': '2025-10-07', 'ratio': 47.11766}, {'period': '2025-10-08', 'ratio': 48.63309}, {'period': '2025-10-09', 'ratio': 56.27052}]}, {'title': '농산물', 'category': ['50000160'], 'data': [{'period': '2025-10-02', 'ratio': 89.18648}, {'period': '2025-10-03', 'ratio': 79.11713}, {'period': '2025-10-04', 'ratio': 71.25133}, {'period': '2025-10-05', 'ratio': 66.16453}, {'period': '2025-10-06', 'ratio': 69.70336}, {'period': '2025-10-07', 'ratio': 79.71185}, {'period': '2025-10-08', 'ratio': 87.74576}, {'period': '2025-10-09', 'ratio': 100}]}]}\n",
    "type(dict_data)"
   ]
  },
  {
   "cell_type": "code",
   "execution_count": 5,
   "id": "676b0021",
   "metadata": {},
   "outputs": [],
   "source": [
    "dict_data_result = dict_data['results']"
   ]
  },
  {
   "cell_type": "code",
   "execution_count": 14,
   "id": "0dc207ad",
   "metadata": {},
   "outputs": [
    {
     "data": {
      "text/plain": [
       "{'category': ['50000160'],\n",
       " 'period': '2025-10-09',\n",
       " 'ratio': 100,\n",
       " 'index': [2, 7]}"
      ]
     },
     "execution_count": 14,
     "metadata": {},
     "output_type": "execute_result"
    }
   ],
   "source": [
    "dict_data_result[0]['data']\n",
    "\n",
    "def extractHighestData(dict_data):\n",
    "    dict_data_result = dict_data['results']\n",
    "    a= {}\n",
    "    for i, data_list in enumerate(dict_data_result):\n",
    "        for j, data in enumerate(data_list['data']):\n",
    "            if data['ratio'] == 100:\n",
    "                a['category'] = data_list['category']\n",
    "                a['period'] = data['period']\n",
    "                a['ratio'] = data['ratio']\n",
    "                a['index'] = [i, j]\n",
    "                return a\n",
    "    print(\"can't find data which ratio is 100\")\n",
    "    return 0\n",
    "\n",
    "res = extractHighestData(dict_data)\n",
    "res\n"
   ]
  },
  {
   "cell_type": "code",
   "execution_count": 15,
   "id": "f96bc29a",
   "metadata": {},
   "outputs": [
    {
     "data": {
      "text/plain": [
       "dict"
      ]
     },
     "execution_count": 15,
     "metadata": {},
     "output_type": "execute_result"
    }
   ],
   "source": [
    "dict_data1 = {'startDate': '2025-10-02', 'endDate': '2025-10-09', 'timeUnit': 'date', 'results': [{'title': '농산물', 'category': ['50000160'], 'data': [{'period': '2025-10-02', 'ratio': 89.18648}, {'period': '2025-10-03', 'ratio': 79.11713}, {'period': '2025-10-04', 'ratio': 71.25133}, {'period': '2025-10-05', 'ratio': 66.16453}, {'period': '2025-10-06', 'ratio': 69.70336}, {'period': '2025-10-07', 'ratio': 79.71185}, {'period': '2025-10-08', 'ratio': 87.74576}, {'period': '2025-10-09', 'ratio': 100}]}, {'title': '반찬', 'category': ['50000146'], 'data': [{'period': '2025-10-02', 'ratio': 4.58486}, {'period': '2025-10-03', 'ratio': 4.32817}, {'period': '2025-10-04', 'ratio': 3.96001}, {'period': '2025-10-05', 'ratio': 3.58582}, {'period': '2025-10-06', 'ratio': 3.59667}, {'period': '2025-10-07', 'ratio': 4.34143}, {'period': '2025-10-08', 'ratio': 4.58245}, {'period': '2025-10-09', 'ratio': 5.43146}]}, {'title': '김치', 'category': ['50000147'], 'data': [{'period': '2025-10-02', 'ratio': 10.27542}, {'period': '2025-10-03', 'ratio': 9.53488}, {'period': '2025-10-04', 'ratio': 8.77445}, {'period': '2025-10-05', 'ratio': 8.48884}, {'period': '2025-10-06', 'ratio': 9.66865}, {'period': '2025-10-07', 'ratio': 12.04032}, {'period': '2025-10-08', 'ratio': 13.3792}, {'period': '2025-10-09', 'ratio': 16.70352}]}]}\n",
    "type(dict_data1)"
   ]
  },
  {
   "cell_type": "code",
   "execution_count": 16,
   "id": "4de87053",
   "metadata": {},
   "outputs": [
    {
     "data": {
      "text/plain": [
       "{'category': ['50000160'],\n",
       " 'period': '2025-10-09',\n",
       " 'ratio': 100,\n",
       " 'index': [0, 7]}"
      ]
     },
     "execution_count": 16,
     "metadata": {},
     "output_type": "execute_result"
    }
   ],
   "source": [
    "res1 = extractHighestData(dict_data1)\n",
    "res1"
   ]
  },
  {
   "cell_type": "code",
   "execution_count": null,
   "id": "786b611f",
   "metadata": {},
   "outputs": [
    {
     "data": {
      "text/plain": [
       "{'period': '2025-10-09', 'ratio': 100}"
      ]
     },
     "execution_count": 26,
     "metadata": {},
     "output_type": "execute_result"
    }
   ],
   "source": [
    "dict_data1['results'][0]['data'][7]\n",
    "\n",
    "def getratio(pre_res, cur_dict_data, cur_index_of_pre):\n",
    "    ratio = cur_dict_data['results'][cur_index_of_pre]['data'][pre_res['index'][1]]\n",
    "    return ratio\n",
    "\n",
    "pre_ratio = getratio(res, 0, dict_data1)\n",
    "pre_ratio"
   ]
  },
  {
   "cell_type": "code",
   "execution_count": null,
   "id": "ce881de0",
   "metadata": {},
   "outputs": [
    {
     "data": {
      "text/plain": [
       "(1, 0)"
      ]
     },
     "execution_count": 28,
     "metadata": {},
     "output_type": "execute_result"
    }
   ],
   "source": [
    "def compare_two_batches(pre_res: dict, cur_dict_data, cur_index_of_pre: int, cat_index: int, highest_cat_index: int):\n",
    "    highest_data = extractHighestData(cur_dict_data)\n",
    "    cur_high_cate = highest_data['category'][0]\n",
    "    multiplier = 1\n",
    "    if cur_high_cate != pre_res['category'][0]:\n",
    "        cur_ratio_of_pre_high_data = getratio(pre_res, cur_index_of_pre, cur_dict_data)\n",
    "        multiplier = cur_ratio_of_pre_high_data/100\n",
    "        highest_cat_index = cat_index\n",
    "    \n",
    "    return multiplier, highest_cat_index, highest_data\n",
    "\n",
    "res_compare_two_batches = compare_two_batches(res, dict_data1, 0, 1, 0)\n",
    "res_compare_two_batches"
   ]
  },
  {
   "cell_type": "code",
   "execution_count": null,
   "id": "1503a19e",
   "metadata": {},
   "outputs": [],
   "source": []
  },
  {
   "cell_type": "code",
   "execution_count": 23,
   "id": "85cf4a4c",
   "metadata": {},
   "outputs": [
    {
     "data": {
      "text/plain": [
       "array([1., 1., 1., 1., 1., 1., 1.], dtype=float32)"
      ]
     },
     "execution_count": 23,
     "metadata": {},
     "output_type": "execute_result"
    }
   ],
   "source": [
    "import numpy as np\n",
    "multiply_number_list = np.ones(7, dtype=np.float32)\n",
    "multiply_number_list"
   ]
  },
  {
   "cell_type": "code",
   "execution_count": null,
   "id": "d27d00f5",
   "metadata": {},
   "outputs": [
    {
     "data": {
      "text/plain": [
       "[3, 3, 3, 1, 1, 1]"
      ]
     },
     "execution_count": 33,
     "metadata": {},
     "output_type": "execute_result"
    }
   ],
   "source": [
    "a= [1,1,1,1,1,1]\n",
    "m_a = [x*3 for x in a[:3]]\n",
    "m_a\n",
    "a[:3] = m_a\n",
    "a"
   ]
  },
  {
   "cell_type": "code",
   "execution_count": 1,
   "id": "3fcfbf26",
   "metadata": {},
   "outputs": [],
   "source": [
    "import json"
   ]
  },
  {
   "cell_type": "code",
   "execution_count": 3,
   "id": "c564348d",
   "metadata": {},
   "outputs": [],
   "source": [
    "import naverAPI as napi\n",
    "import json\n",
    "from dotenv import load_dotenv\n",
    "import pandas as pd\n",
    "import numpy as np\n",
    "import os"
   ]
  },
  {
   "cell_type": "code",
   "execution_count": null,
   "id": "e223351b",
   "metadata": {},
   "outputs": [
    {
     "name": "stdout",
     "output_type": "stream",
     "text": [
      "/home/ywpc/Projects_ws/eda-repo-2/ShoppingList\n",
      "23\n",
      "[{'title': '축산물', 'category': ['50000145'], 'data': [{'period': '2025-10-02', 'ratio': 34.36252990068879}, {'period': '2025-10-03', 'ratio': 28.092679805876664}, {'period': '2025-10-04', 'ratio': 23.503983589730456}, {'period': '2025-10-05', 'ratio': 20.808697971536578}, {'period': '2025-10-06', 'ratio': 19.03942170044545}, {'period': '2025-10-07', 'ratio': 20.56579423825982}, {'period': '2025-10-08', 'ratio': 21.452729206857327}, {'period': '2025-10-09', 'ratio': 25.05870818959138}]}, {'title': '수산물', 'category': ['50000159'], 'data': [{'period': '2025-10-02', 'ratio': 37.622163012942}, {'period': '2025-10-03', 'ratio': 32.48138412787868}, {'period': '2025-10-04', 'ratio': 29.151254606571815}, {'period': '2025-10-05', 'ratio': 27.158235569826417}, {'period': '2025-10-06', 'ratio': 27.560901818337634}, {'period': '2025-10-07', 'ratio': 29.958882055538034}, {'period': '2025-10-08', 'ratio': 30.9224458457603}, {'period': '2025-10-09', 'ratio': 35.7785603966025}]}, {'title': '농산물', 'category': ['50000160'], 'data': [{'period': '2025-10-02', 'ratio': 56.70756443947201}, {'period': '2025-10-03', 'ratio': 50.30515553188201}, {'period': '2025-10-04', 'ratio': 45.303832905762}, {'period': '2025-10-05', 'ratio': 42.069485740242}, {'period': '2025-10-06', 'ratio': 44.31958497350401}, {'period': '2025-10-07', 'ratio': 50.68329718209}, {'period': '2025-10-08', 'ratio': 55.79150942486401}, {'period': '2025-10-09', 'ratio': 63.58314000000001}]}, {'title': '반찬', 'category': ['50000146'], 'data': [{'period': '2025-10-02', 'ratio': 2.915197952604}, {'period': '2025-10-03', 'ratio': 2.751986390538}, {'period': '2025-10-04', 'ratio': 2.517898702314}, {'period': '2025-10-05', 'ratio': 2.2799769507480003}, {'period': '2025-10-06', 'ratio': 2.286875721438}, {'period': '2025-10-07', 'ratio': 2.760417514902}, {'period': '2025-10-08', 'ratio': 2.91366559893}, {'period': '2025-10-09', 'ratio': 3.4534928158440006}]}, {'title': '김치', 'category': ['50000147'], 'data': [{'period': '2025-10-02', 'ratio': 6.533434684188001}, {'period': '2025-10-03', 'ratio': 6.062576099232}, {'period': '2025-10-04', 'ratio': 5.579070827730001}, {'period': '2025-10-05', 'ratio': 5.397471021576}, {'period': '2025-10-06', 'ratio': 6.14763126561}, {'period': '2025-10-07', 'ratio': 7.655613522048}, {'period': '2025-10-08', 'ratio': 8.50691546688}, {'period': '2025-10-09', 'ratio': 10.620622506528}]}, {'title': '음료', 'category': ['50000148'], 'data': [{'period': '2025-10-02', 'ratio': 39.260408048298004}, {'period': '2025-10-03', 'ratio': 37.061652200586}, {'period': '2025-10-04', 'ratio': 33.827305035066004}, {'period': '2025-10-05', 'ratio': 32.92274585217}, {'period': '2025-10-06', 'ratio': 35.655199502100004}, {'period': '2025-10-07', 'ratio': 40.93390357647001}, {'period': '2025-10-08', 'ratio': 43.411573226106}, {'period': '2025-10-09', 'ratio': 50.991713560974006}]}, {'title': '과자/베이커리', 'category': ['50000149'], 'data': [{'period': '2025-10-02', 'ratio': 54.176637551772004}, {'period': '2025-10-03', 'ratio': 50.879457527304}, {'period': '2025-10-04', 'ratio': 46.25475055603201}, {'period': '2025-10-05', 'ratio': 44.76899060702401}, {'period': '2025-10-06', 'ratio': 48.065782774338004}, {'period': '2025-10-07', 'ratio': 51.364495152479996}, {'period': '2025-10-08', 'ratio': 50.951103009456}, {'period': '2025-10-09', 'ratio': 57.191069710974006}]}, {'title': '유가공품', 'category': ['50000150'], 'data': [{'period': '2025-10-02', 'ratio': 4.581413211246001}, {'period': '2025-10-03', 'ratio': 4.208250120900001}, {'period': '2025-10-04', 'ratio': 3.8956181798340004}, {'period': '2025-10-05', 'ratio': 3.6523300112520003}, {'period': '2025-10-06', 'ratio': 3.613251813408}, {'period': '2025-10-07', 'ratio': 4.700949514446}, {'period': '2025-10-08', 'ratio': 5.241539729040001}, {'period': '2025-10-09', 'ratio': 6.523477564464001}]}, {'title': '냉동/간편조리식품', 'category': ['50000026'], 'data': [{'period': '2025-10-02', 'ratio': 19.247843632602002}, {'period': '2025-10-03', 'ratio': 18.263977199184}, {'period': '2025-10-04', 'ratio': 16.422673047924}, {'period': '2025-10-05', 'ratio': 15.505473536796002}, {'period': '2025-10-06', 'ratio': 15.211999195812}, {'period': '2025-10-07', 'ratio': 17.039893662846}, {'period': '2025-10-08', 'ratio': 18.829472929716}, {'period': '2025-10-09', 'ratio': 22.892899732638}]}, {'title': '건강식품', 'category': ['50000023'], 'data': [{'period': '2025-10-02', 'ratio': 97.63113}, {'period': '2025-10-03', 'ratio': 89.40849}, {'period': '2025-10-04', 'ratio': 84.11867}, {'period': '2025-10-05', 'ratio': 80.4717}, {'period': '2025-10-06', 'ratio': 86.65994}, {'period': '2025-10-07', 'ratio': 90.60499}, {'period': '2025-10-08', 'ratio': 92.60222}, {'period': '2025-10-09', 'ratio': 100.0}]}, {'title': '다이어트식품', 'category': ['50000024'], 'data': [{'period': '2025-10-02', 'ratio': 14.97025}, {'period': '2025-10-03', 'ratio': 14.1266}, {'period': '2025-10-04', 'ratio': 13.31553}, {'period': '2025-10-05', 'ratio': 12.41901}, {'period': '2025-10-06', 'ratio': 13.56992}, {'period': '2025-10-07', 'ratio': 13.90132}, {'period': '2025-10-08', 'ratio': 15.68209}, {'period': '2025-10-09', 'ratio': 17.18624}]}, {'title': '통조림/캔', 'category': ['50011940'], 'data': [{'period': '2025-10-02', 'ratio': 14.52084}, {'period': '2025-10-03', 'ratio': 9.74978}, {'period': '2025-10-04', 'ratio': 7.19356}, {'period': '2025-10-05', 'ratio': 5.33655}, {'period': '2025-10-06', 'ratio': 4.16227}, {'period': '2025-10-07', 'ratio': 4.0117}, {'period': '2025-10-08', 'ratio': 4.04963}, {'period': '2025-10-09', 'ratio': 4.39598}]}, {'title': '제과/제빵재료', 'category': ['50012460'], 'data': [{'period': '2025-10-02', 'ratio': 1.29343}, {'period': '2025-10-03', 'ratio': 1.07351}, {'period': '2025-10-04', 'ratio': 0.93061}, {'period': '2025-10-05', 'ratio': 0.90149}, {'period': '2025-10-06', 'ratio': 0.89306}, {'period': '2025-10-07', 'ratio': 1.11949}, {'period': '2025-10-08', 'ratio': 1.28002}, {'period': '2025-10-09', 'ratio': 1.5823}]}, {'title': '조미료', 'category': ['50012520'], 'data': [{'period': '2025-10-02', 'ratio': 9.75514}, {'period': '2025-10-03', 'ratio': 9.23715}, {'period': '2025-10-04', 'ratio': 8.64791}, {'period': '2025-10-05', 'ratio': 8.26555}, {'period': '2025-10-06', 'ratio': 8.61841}, {'period': '2025-10-07', 'ratio': 9.59154}, {'period': '2025-10-08', 'ratio': 10.28309}, {'period': '2025-10-09', 'ratio': 12.12017}]}, {'title': '식용유/오일', 'category': ['50012620'], 'data': [{'period': '2025-10-02', 'ratio': 9.32451}, {'period': '2025-10-03', 'ratio': 8.21766}, {'period': '2025-10-04', 'ratio': 7.22038}, {'period': '2025-10-05', 'ratio': 6.5047}, {'period': '2025-10-06', 'ratio': 6.43038}, {'period': '2025-10-07', 'ratio': 6.77787}, {'period': '2025-10-08', 'ratio': 6.97939}, {'period': '2025-10-09', 'ratio': 7.34949}]}, {'title': '소스/드레싱', 'category': ['50012782'], 'data': [{'period': '2025-10-02', 'ratio': 4.63045}, {'period': '2025-10-03', 'ratio': 4.51743}, {'period': '2025-10-04', 'ratio': 3.91592}, {'period': '2025-10-05', 'ratio': 3.51556}, {'period': '2025-10-06', 'ratio': 3.26537}, {'period': '2025-10-07', 'ratio': 4.10519}, {'period': '2025-10-08', 'ratio': 4.87642}, {'period': '2025-10-09', 'ratio': 5.78443}]}, {'title': '가루/분말류', 'category': ['50013360'], 'data': [{'period': '2025-10-02', 'ratio': 3.75463}, {'period': '2025-10-03', 'ratio': 3.61325}, {'period': '2025-10-04', 'ratio': 3.44506}, {'period': '2025-10-05', 'ratio': 3.11864}, {'period': '2025-10-06', 'ratio': 3.28032}, {'period': '2025-10-07', 'ratio': 3.95079}, {'period': '2025-10-08', 'ratio': 4.29024}, {'period': '2025-10-09', 'ratio': 4.99902}]}, {'title': '잼/시럽', 'category': ['50013520'], 'data': [{'period': '2025-10-02', 'ratio': 2.33783}, {'period': '2025-10-03', 'ratio': 2.27883}, {'period': '2025-10-04', 'ratio': 2.01217}, {'period': '2025-10-05', 'ratio': 1.8685}, {'period': '2025-10-06', 'ratio': 2.00413}, {'period': '2025-10-07', 'ratio': 2.31867}, {'period': '2025-10-08', 'ratio': 2.54088}, {'period': '2025-10-09', 'ratio': 3.0558}]}, {'title': '라면/면류', 'category': ['50013960'], 'data': [{'period': '2025-10-02', 'ratio': 5.28828}, {'period': '2025-10-03', 'ratio': 5.18483}, {'period': '2025-10-04', 'ratio': 4.86454}, {'period': '2025-10-05', 'ratio': 4.62317}, {'period': '2025-10-06', 'ratio': 4.92507}, {'period': '2025-10-07', 'ratio': 5.51279}, {'period': '2025-10-08', 'ratio': 6.04074}, {'period': '2025-10-09', 'ratio': 7.12115}]}, {'title': '장류', 'category': ['50013881'], 'data': [{'period': '2025-10-02', 'ratio': 4.12971}, {'period': '2025-10-03', 'ratio': 4.19177}, {'period': '2025-10-04', 'ratio': 3.77455}, {'period': '2025-10-05', 'ratio': 3.4964}, {'period': '2025-10-06', 'ratio': 3.62858}, {'period': '2025-10-07', 'ratio': 4.12511}, {'period': '2025-10-08', 'ratio': 4.79405}, {'period': '2025-10-09', 'ratio': 5.16874}]}, {'title': '밀키트', 'category': ['50014240'], 'data': [{'period': '2025-10-02', 'ratio': 2.80103}, {'period': '2025-10-03', 'ratio': 2.56349}, {'period': '2025-10-04', 'ratio': 2.23975}, {'period': '2025-10-05', 'ratio': 2.1819}, {'period': '2025-10-06', 'ratio': 2.18343}, {'period': '2025-10-07', 'ratio': 2.47614}, {'period': '2025-10-08', 'ratio': 2.688}, {'period': '2025-10-09', 'ratio': 3.3807}]}, {'title': '주류', 'category': ['50014520'], 'data': [{'period': '2025-10-02', 'ratio': 13.16841}, {'period': '2025-10-03', 'ratio': 12.68222}, {'period': '2025-10-04', 'ratio': 12.41786}, {'period': '2025-10-05', 'ratio': 13.0642}, {'period': '2025-10-06', 'ratio': 14.3538}, {'period': '2025-10-07', 'ratio': 12.92167}, {'period': '2025-10-08', 'ratio': 11.81176}, {'period': '2025-10-09', 'ratio': 11.70831}]}, {'title': '떡류', 'category': ['50019139'], 'data': [{'period': '2025-10-02', 'ratio': 8.79541}, {'period': '2025-10-03', 'ratio': 7.66327}, {'period': '2025-10-04', 'ratio': 6.88936}, {'period': '2025-10-05', 'ratio': 7.19931}, {'period': '2025-10-06', 'ratio': 7.96058}, {'period': '2025-10-07', 'ratio': 8.23643}, {'period': '2025-10-08', 'ratio': 7.97054}, {'period': '2025-10-09', 'ratio': 8.07628}]}]\n"
     ]
    }
   ],
   "source": [
    "current_dir = os.getcwd()\n",
    "#print(current_dir)\n",
    "dotenv_path = os.path.join(current_dir, '.env')\n",
    "load_dotenv(dotenv_path=dotenv_path)\n",
    "client_id = os.getenv(\"NAVER_CLIENT_ID\")\n",
    "client_secret = os.getenv(\"NAVER_CLIENT_SECRET\")\n",
    "\n",
    "categroy_json = pd.read_json('output/naverCategoryTable.json')\n",
    "df_category = pd.DataFrame(categroy_json)\n",
    "food = df_category[df_category['p_id'] == 50000006] # 음식 카테고리\n",
    "b = food[['id','name']].to_dict('tight')\n",
    "to_be_found = np.array(b['data'])\n",
    "test_category_list = napi.listToCategoryDict(to_be_found)\n",
    "print(len(test_category_list))\n",
    "res = napi.createTrendData(client_id, client_secret, test_category_list, \"2025-10-02\", \"2025-10-09\")\n",
    "print(res)"
   ]
  },
  {
   "cell_type": "code",
   "execution_count": 15,
   "id": "9d3b3ebf",
   "metadata": {},
   "outputs": [
    {
     "name": "stdout",
     "output_type": "stream",
     "text": [
      "데이터베이스 연결 성공\n",
      "airenv\n",
      "boxoffice\n",
      "datetime_record\n",
      "incheon_airport\n",
      "n_sp_category\n",
      "n_sp_trend\n",
      "seoul_daily_population\n",
      "seoul_time_population\n",
      "seoul_time_total_population\n",
      "seoul_traffic_gate\n",
      "traffic_region\n",
      "weather\n"
     ]
    }
   ],
   "source": [
    "import mysql.connector\n",
    "import pandas as pd\n",
    "import matplotlib.pyplot as plt\n",
    "from dotenv import load_dotenv\n",
    "import os\n",
    "import json\n",
    "\n",
    "\n",
    "\n",
    "load_dotenv(dotenv_path='../.env')\n",
    "DB_CONFIG = {\n",
    "    'host': os.getenv('AWS1_HOST'),\n",
    "    'port': 3306,\n",
    "    'user': 'root',\n",
    "    'password': os.getenv('AWS1_PASSWORD'),\n",
    "    'database': 'EDA_PROJECT'\n",
    "}\n",
    "\n",
    "query = 'SHOW TABLES;'\n",
    "try:\n",
    "    conn = mysql.connector.connect(**DB_CONFIG)\n",
    "    print(\"데이터베이스 연결 성공\")\n",
    "\n",
    "    # # sql 쿼리를 통해 pd dataframe에 저장\n",
    "    # df = pd.read_sql_query(q)\n",
    "\n",
    "    # 커서를 통해 table 보여주기\n",
    "    cursor = conn.cursor()\n",
    "    cursor.execute(\"show tables;\")\n",
    "    tables = cursor.fetchall()\n",
    "    if tables:\n",
    "            # 결과는 튜플의 리스트 형태이며, 각 튜플의 첫 번째 요소가 테이블 이름입니다.\n",
    "            for table_tuple in tables:\n",
    "                print(table_tuple[0])\n",
    "    else:\n",
    "        print(\"테이블이 없습니다.\")\n",
    "\n",
    "    \n",
    "\n",
    "except Exception as e:\n",
    "        print(f\"일반 오류 발생: {e}\")\n"
   ]
  },
  {
   "cell_type": "code",
   "execution_count": 1,
   "id": "09dc57c7",
   "metadata": {},
   "outputs": [
    {
     "data": {
      "text/plain": [
       "0"
      ]
     },
     "execution_count": 1,
     "metadata": {},
     "output_type": "execute_result"
    }
   ],
   "source": [
    "d = []\n",
    "len(d)"
   ]
  }
 ],
 "metadata": {
  "kernelspec": {
   "display_name": "eda_venv",
   "language": "python",
   "name": "python3"
  },
  "language_info": {
   "codemirror_mode": {
    "name": "ipython",
    "version": 3
   },
   "file_extension": ".py",
   "mimetype": "text/x-python",
   "name": "python",
   "nbconvert_exporter": "python",
   "pygments_lexer": "ipython3",
   "version": "3.12.3"
  }
 },
 "nbformat": 4,
 "nbformat_minor": 5
}
